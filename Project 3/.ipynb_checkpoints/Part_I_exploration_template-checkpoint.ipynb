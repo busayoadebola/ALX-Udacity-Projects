{
 "cells": [
  {
   "cell_type": "markdown",
   "metadata": {},
   "source": [
    "# FORDGO BIKE DATA EXPLORATION\n",
    "## by Akinjiola Oreoluwa Busayo\n",
    "\n",
    "## Introduction\n",
    "> This document explores a dataset containing information regarding 183,000 rides made in a bike-sharing system covering the greater San Francisco Bay area.\n",
    "\n",
    "\n",
    "\n",
    "## Preliminary Wrangling\n"
   ]
  },
  {
   "cell_type": "code",
   "execution_count": 1,
   "metadata": {},
   "outputs": [],
   "source": [
    "# import all packages and set plots to be embedded inline\n",
    "import numpy as np\n",
    "import pandas as pd\n",
    "import matplotlib.pyplot as plt\n",
    "import seaborn as sb\n",
    "\n",
    "%matplotlib inline"
   ]
  },
  {
   "cell_type": "markdown",
   "metadata": {},
   "source": [
    "> Load in your dataset and describe its properties through the questions below. Try and motivate your exploration goals through this section.\n"
   ]
  },
  {
   "cell_type": "code",
   "execution_count": 2,
   "metadata": {},
   "outputs": [],
   "source": [
    "# load in the dataset to be explored\n",
    "df=pd.read_csv('201902-fordgobike-tripdata.csv')"
   ]
  },
  {
   "cell_type": "code",
   "execution_count": 3,
   "metadata": {
    "scrolled": true
   },
   "outputs": [
    {
     "name": "stdout",
     "output_type": "stream",
     "text": [
      "<class 'pandas.core.frame.DataFrame'>\n",
      "RangeIndex: 183412 entries, 0 to 183411\n",
      "Data columns (total 16 columns):\n",
      " #   Column                   Non-Null Count   Dtype  \n",
      "---  ------                   --------------   -----  \n",
      " 0   duration_sec             183412 non-null  int64  \n",
      " 1   start_time               183412 non-null  object \n",
      " 2   end_time                 183412 non-null  object \n",
      " 3   start_station_id         183215 non-null  float64\n",
      " 4   start_station_name       183215 non-null  object \n",
      " 5   start_station_latitude   183412 non-null  float64\n",
      " 6   start_station_longitude  183412 non-null  float64\n",
      " 7   end_station_id           183215 non-null  float64\n",
      " 8   end_station_name         183215 non-null  object \n",
      " 9   end_station_latitude     183412 non-null  float64\n",
      " 10  end_station_longitude    183412 non-null  float64\n",
      " 11  bike_id                  183412 non-null  int64  \n",
      " 12  user_type                183412 non-null  object \n",
      " 13  member_birth_year        175147 non-null  float64\n",
      " 14  member_gender            175147 non-null  object \n",
      " 15  bike_share_for_all_trip  183412 non-null  object \n",
      "dtypes: float64(7), int64(2), object(7)\n",
      "memory usage: 22.4+ MB\n"
     ]
    },
    {
     "data": {
      "text/html": [
       "<div>\n",
       "<style scoped>\n",
       "    .dataframe tbody tr th:only-of-type {\n",
       "        vertical-align: middle;\n",
       "    }\n",
       "\n",
       "    .dataframe tbody tr th {\n",
       "        vertical-align: top;\n",
       "    }\n",
       "\n",
       "    .dataframe thead th {\n",
       "        text-align: right;\n",
       "    }\n",
       "</style>\n",
       "<table border=\"1\" class=\"dataframe\">\n",
       "  <thead>\n",
       "    <tr style=\"text-align: right;\">\n",
       "      <th></th>\n",
       "      <th>duration_sec</th>\n",
       "      <th>start_time</th>\n",
       "      <th>end_time</th>\n",
       "      <th>start_station_id</th>\n",
       "      <th>start_station_name</th>\n",
       "      <th>start_station_latitude</th>\n",
       "      <th>start_station_longitude</th>\n",
       "      <th>end_station_id</th>\n",
       "      <th>end_station_name</th>\n",
       "      <th>end_station_latitude</th>\n",
       "      <th>end_station_longitude</th>\n",
       "      <th>bike_id</th>\n",
       "      <th>user_type</th>\n",
       "      <th>member_birth_year</th>\n",
       "      <th>member_gender</th>\n",
       "      <th>bike_share_for_all_trip</th>\n",
       "    </tr>\n",
       "  </thead>\n",
       "  <tbody>\n",
       "    <tr>\n",
       "      <th>0</th>\n",
       "      <td>52185</td>\n",
       "      <td>2019-02-28 17:32:10.1450</td>\n",
       "      <td>2019-03-01 08:01:55.9750</td>\n",
       "      <td>21.0</td>\n",
       "      <td>Montgomery St BART Station (Market St at 2nd St)</td>\n",
       "      <td>37.789625</td>\n",
       "      <td>-122.400811</td>\n",
       "      <td>13.0</td>\n",
       "      <td>Commercial St at Montgomery St</td>\n",
       "      <td>37.794231</td>\n",
       "      <td>-122.402923</td>\n",
       "      <td>4902</td>\n",
       "      <td>Customer</td>\n",
       "      <td>1984.0</td>\n",
       "      <td>Male</td>\n",
       "      <td>No</td>\n",
       "    </tr>\n",
       "    <tr>\n",
       "      <th>1</th>\n",
       "      <td>42521</td>\n",
       "      <td>2019-02-28 18:53:21.7890</td>\n",
       "      <td>2019-03-01 06:42:03.0560</td>\n",
       "      <td>23.0</td>\n",
       "      <td>The Embarcadero at Steuart St</td>\n",
       "      <td>37.791464</td>\n",
       "      <td>-122.391034</td>\n",
       "      <td>81.0</td>\n",
       "      <td>Berry St at 4th St</td>\n",
       "      <td>37.775880</td>\n",
       "      <td>-122.393170</td>\n",
       "      <td>2535</td>\n",
       "      <td>Customer</td>\n",
       "      <td>NaN</td>\n",
       "      <td>NaN</td>\n",
       "      <td>No</td>\n",
       "    </tr>\n",
       "    <tr>\n",
       "      <th>2</th>\n",
       "      <td>61854</td>\n",
       "      <td>2019-02-28 12:13:13.2180</td>\n",
       "      <td>2019-03-01 05:24:08.1460</td>\n",
       "      <td>86.0</td>\n",
       "      <td>Market St at Dolores St</td>\n",
       "      <td>37.769305</td>\n",
       "      <td>-122.426826</td>\n",
       "      <td>3.0</td>\n",
       "      <td>Powell St BART Station (Market St at 4th St)</td>\n",
       "      <td>37.786375</td>\n",
       "      <td>-122.404904</td>\n",
       "      <td>5905</td>\n",
       "      <td>Customer</td>\n",
       "      <td>1972.0</td>\n",
       "      <td>Male</td>\n",
       "      <td>No</td>\n",
       "    </tr>\n",
       "    <tr>\n",
       "      <th>3</th>\n",
       "      <td>36490</td>\n",
       "      <td>2019-02-28 17:54:26.0100</td>\n",
       "      <td>2019-03-01 04:02:36.8420</td>\n",
       "      <td>375.0</td>\n",
       "      <td>Grove St at Masonic Ave</td>\n",
       "      <td>37.774836</td>\n",
       "      <td>-122.446546</td>\n",
       "      <td>70.0</td>\n",
       "      <td>Central Ave at Fell St</td>\n",
       "      <td>37.773311</td>\n",
       "      <td>-122.444293</td>\n",
       "      <td>6638</td>\n",
       "      <td>Subscriber</td>\n",
       "      <td>1989.0</td>\n",
       "      <td>Other</td>\n",
       "      <td>No</td>\n",
       "    </tr>\n",
       "    <tr>\n",
       "      <th>4</th>\n",
       "      <td>1585</td>\n",
       "      <td>2019-02-28 23:54:18.5490</td>\n",
       "      <td>2019-03-01 00:20:44.0740</td>\n",
       "      <td>7.0</td>\n",
       "      <td>Frank H Ogawa Plaza</td>\n",
       "      <td>37.804562</td>\n",
       "      <td>-122.271738</td>\n",
       "      <td>222.0</td>\n",
       "      <td>10th Ave at E 15th St</td>\n",
       "      <td>37.792714</td>\n",
       "      <td>-122.248780</td>\n",
       "      <td>4898</td>\n",
       "      <td>Subscriber</td>\n",
       "      <td>1974.0</td>\n",
       "      <td>Male</td>\n",
       "      <td>Yes</td>\n",
       "    </tr>\n",
       "  </tbody>\n",
       "</table>\n",
       "</div>"
      ],
      "text/plain": [
       "   duration_sec                start_time                  end_time  \\\n",
       "0         52185  2019-02-28 17:32:10.1450  2019-03-01 08:01:55.9750   \n",
       "1         42521  2019-02-28 18:53:21.7890  2019-03-01 06:42:03.0560   \n",
       "2         61854  2019-02-28 12:13:13.2180  2019-03-01 05:24:08.1460   \n",
       "3         36490  2019-02-28 17:54:26.0100  2019-03-01 04:02:36.8420   \n",
       "4          1585  2019-02-28 23:54:18.5490  2019-03-01 00:20:44.0740   \n",
       "\n",
       "   start_station_id                                start_station_name  \\\n",
       "0              21.0  Montgomery St BART Station (Market St at 2nd St)   \n",
       "1              23.0                     The Embarcadero at Steuart St   \n",
       "2              86.0                           Market St at Dolores St   \n",
       "3             375.0                           Grove St at Masonic Ave   \n",
       "4               7.0                               Frank H Ogawa Plaza   \n",
       "\n",
       "   start_station_latitude  start_station_longitude  end_station_id  \\\n",
       "0               37.789625              -122.400811            13.0   \n",
       "1               37.791464              -122.391034            81.0   \n",
       "2               37.769305              -122.426826             3.0   \n",
       "3               37.774836              -122.446546            70.0   \n",
       "4               37.804562              -122.271738           222.0   \n",
       "\n",
       "                               end_station_name  end_station_latitude  \\\n",
       "0                Commercial St at Montgomery St             37.794231   \n",
       "1                            Berry St at 4th St             37.775880   \n",
       "2  Powell St BART Station (Market St at 4th St)             37.786375   \n",
       "3                        Central Ave at Fell St             37.773311   \n",
       "4                         10th Ave at E 15th St             37.792714   \n",
       "\n",
       "   end_station_longitude  bike_id   user_type  member_birth_year  \\\n",
       "0            -122.402923     4902    Customer             1984.0   \n",
       "1            -122.393170     2535    Customer                NaN   \n",
       "2            -122.404904     5905    Customer             1972.0   \n",
       "3            -122.444293     6638  Subscriber             1989.0   \n",
       "4            -122.248780     4898  Subscriber             1974.0   \n",
       "\n",
       "  member_gender bike_share_for_all_trip  \n",
       "0          Male                      No  \n",
       "1           NaN                      No  \n",
       "2          Male                      No  \n",
       "3         Other                      No  \n",
       "4          Male                     Yes  "
      ]
     },
     "execution_count": 3,
     "metadata": {},
     "output_type": "execute_result"
    }
   ],
   "source": [
    "df.shape\n",
    "df.info()\n",
    "df.head(5)"
   ]
  },
  {
   "cell_type": "markdown",
   "metadata": {},
   "source": [
    "The first look into the dataset shows a number of data quality and tidyness issues. Data cleaning will be done as the analysis progresses"
   ]
  },
  {
   "cell_type": "markdown",
   "metadata": {},
   "source": [
    "### What is the structure of your dataset?\n",
    "\n",
    "> The dataset contains information on 183,412 bike users with different characteristics across 16 columns. \n",
    "\n",
    "### What is/are the main feature(s) of interest in your dataset?\n",
    "\n",
    "> To figure out the best set of customers to rent bikes to\n",
    "\n",
    "### What features in the dataset do you think will help support your investigation into your feature(s) of interest?\n",
    "\n",
    "> I think the type of user, the gender, the time spent renting the bike, the age of the biker and duration with the bike will help in the investigation of my interest"
   ]
  },
  {
   "cell_type": "markdown",
   "metadata": {},
   "source": [
    "### Data Cleaning\n",
    "> There are columns in my data set that have issues. I will clean some now"
   ]
  },
  {
   "cell_type": "code",
   "execution_count": 3,
   "metadata": {},
   "outputs": [],
   "source": [
    "# Make a copy of the data set\n",
    "df_clean=df.copy()"
   ]
  },
  {
   "cell_type": "markdown",
   "metadata": {},
   "source": [
    "#### Incorrect datatypes in multiple columns\n",
    "> Change the affected columns into the correct datatypes"
   ]
  },
  {
   "cell_type": "code",
   "execution_count": 53,
   "metadata": {},
   "outputs": [
    {
     "name": "stdout",
     "output_type": "stream",
     "text": [
      "<class 'pandas.core.frame.DataFrame'>\n",
      "RangeIndex: 183412 entries, 0 to 183411\n",
      "Data columns (total 16 columns):\n",
      " #   Column                   Non-Null Count   Dtype  \n",
      "---  ------                   --------------   -----  \n",
      " 0   duration_sec             183412 non-null  int64  \n",
      " 1   start_time               183412 non-null  object \n",
      " 2   end_time                 183412 non-null  object \n",
      " 3   start_station_id         183215 non-null  float64\n",
      " 4   start_station_name       183215 non-null  object \n",
      " 5   start_station_latitude   183412 non-null  float64\n",
      " 6   start_station_longitude  183412 non-null  float64\n",
      " 7   end_station_id           183215 non-null  float64\n",
      " 8   end_station_name         183215 non-null  object \n",
      " 9   end_station_latitude     183412 non-null  float64\n",
      " 10  end_station_longitude    183412 non-null  float64\n",
      " 11  bike_id                  183412 non-null  int64  \n",
      " 12  user_type                183412 non-null  object \n",
      " 13  member_birth_year        175147 non-null  float64\n",
      " 14  member_gender            175147 non-null  object \n",
      " 15  bike_share_for_all_trip  183412 non-null  object \n",
      "dtypes: float64(7), int64(2), object(7)\n",
      "memory usage: 22.4+ MB\n"
     ]
    }
   ],
   "source": [
    "df_clean.info()"
   ]
  },
  {
   "cell_type": "code",
   "execution_count": 4,
   "metadata": {},
   "outputs": [
    {
     "name": "stdout",
     "output_type": "stream",
     "text": [
      "duration_sec                  int64\n",
      "start_time                   object\n",
      "end_time                     object\n",
      "start_station_id            float64\n",
      "start_station_name           object\n",
      "start_station_latitude      float64\n",
      "start_station_longitude     float64\n",
      "end_station_id              float64\n",
      "end_station_name             object\n",
      "end_station_latitude        float64\n",
      "end_station_longitude       float64\n",
      "bike_id                       int64\n",
      "user_type                  category\n",
      "member_birth_year           float64\n",
      "member_gender              category\n",
      "bike_share_for_all_trip    category\n",
      "dtype: object\n"
     ]
    }
   ],
   "source": [
    "df_clean['user_type'] = df_clean['user_type'].astype('category')\n",
    "df_clean['bike_share_for_all_trip'] = df_clean['bike_share_for_all_trip'].astype('category')\n",
    "df_clean['member_gender'] = df_clean['member_gender'].astype('category')\n",
    "print(df_clean.dtypes)\n"
   ]
  },
  {
   "cell_type": "markdown",
   "metadata": {},
   "source": [
    "#### Round up the decimal places for the longitude and latitude"
   ]
  },
  {
   "cell_type": "code",
   "execution_count": 7,
   "metadata": {},
   "outputs": [
    {
     "data": {
      "text/plain": [
       "duration_sec                 4752\n",
       "start_time                 183401\n",
       "end_time                   183397\n",
       "start_station_id              329\n",
       "start_station_name            329\n",
       "start_station_latitude        334\n",
       "start_station_longitude       335\n",
       "end_station_id                329\n",
       "end_station_name              329\n",
       "end_station_latitude          335\n",
       "end_station_longitude         335\n",
       "bike_id                      4646\n",
       "user_type                       2\n",
       "member_birth_year              75\n",
       "member_gender                   3\n",
       "bike_share_for_all_trip         2\n",
       "dtype: int64"
      ]
     },
     "execution_count": 7,
     "metadata": {},
     "output_type": "execute_result"
    }
   ],
   "source": [
    "df_clean.nunique()"
   ]
  },
  {
   "cell_type": "code",
   "execution_count": 8,
   "metadata": {
    "scrolled": true
   },
   "outputs": [
    {
     "data": {
      "text/plain": [
       "start_station_latitude  start_station_longitude  start_station_name         \n",
       "37.317298               -121.884995              Palm St at Willow St              4\n",
       "37.318450               -121.883172              Willow St at Vine St              9\n",
       "37.322125               -121.881090              Oak St at 1st St                 30\n",
       "37.322980               -121.887931              Locust St at Grant St            49\n",
       "37.323678               -121.874119              Bestor Art Park                  79\n",
       "                                                                                ... \n",
       "37.873558               -122.283093              North Berkeley BART Station     380\n",
       "37.873676               -122.268487              Shattuck Ave at Hearst Ave      459\n",
       "37.875112               -122.260553              Hearst Ave at Euclid Ave       1203\n",
       "37.876573               -122.269528              Virginia St at Shattuck Ave     280\n",
       "37.880222               -122.269592              Vine St at Shattuck Ave         422\n",
       "Name: start_station_name, Length: 329, dtype: int64"
      ]
     },
     "execution_count": 8,
     "metadata": {},
     "output_type": "execute_result"
    }
   ],
   "source": [
    "df_clean.groupby(['start_station_latitude','start_station_longitude'])['start_station_name'].value_counts()\n",
    "#filtered_df.groupby(['release_year','genres']).mean('popularity')"
   ]
  },
  {
   "cell_type": "code",
   "execution_count": 13,
   "metadata": {},
   "outputs": [
    {
     "data": {
      "text/plain": [
       "{37.794231: 'Commercial St at Montgomery St',\n",
       " 37.77588: 'Berry St at 4th St',\n",
       " 37.78637526861584: 'Powell St BART Station (Market St at 4th St)',\n",
       " 37.77331087889723: 'Central Ave at Fell St',\n",
       " 37.7927143: '10th Ave at E 15th St',\n",
       " 37.79801364395978: 'Broadway at Kearny',\n",
       " 37.329732: 'San Jose Diridon Station',\n",
       " 37.7567083: 'Valencia St at 21st St',\n",
       " 37.7592103: 'Mission Playground',\n",
       " 37.7787677: 'San Francisco Public Library (Grove St at Hyde St)',\n",
       " 37.783171989315306: 'Bryant St at 2nd St',\n",
       " 37.87367621459825: 'Shattuck Ave at Hearst Ave',\n",
       " 37.8658466: 'Channing Way at Shattuck Ave',\n",
       " 37.77452040113685: '8th St at Ringold St',\n",
       " 37.7730627: 'Broderick St at Oak St',\n",
       " 37.76328094058097: 'Potrero Ave and Mariposa St',\n",
       " 37.7737932060887: 'Market St at Franklin St',\n",
       " 37.8126783: 'Telegraph Ave at 23rd St',\n",
       " 37.7630152: '17th St at Dolores St',\n",
       " 37.794396: '6th Ave at E 12th St (Temporary Location)',\n",
       " 37.7774157: 'McAllister St at Baker St',\n",
       " 37.8623199: 'Telegraph Ave at Carleton St',\n",
       " 37.8396488: 'Genoa St at 55th St',\n",
       " 37.80889393398715: 'Grand Ave at Perkins St',\n",
       " 37.795392: 'San Francisco Ferry Building (Harry Bridges Plaza)',\n",
       " 37.7737172: 'Folsom St at 9th St',\n",
       " 37.8628271: 'Channing Way at San Pablo Ave',\n",
       " 37.780526: '2nd St at Townsend St',\n",
       " 37.7717933: 'Pierce St at Haight St',\n",
       " 37.75179164525661: 'Potrero del Sol Park (25th St at Utah St)',\n",
       " 37.7552126: 'Valencia St at 22nd St',\n",
       " 37.7650259: 'Jackson Playground',\n",
       " 37.7662102: 'Dolores St at 15th St',\n",
       " 37.7436839: '29th St at Church St',\n",
       " 37.760299: '19th St at Mission St',\n",
       " 37.81231409135146: 'Bay Pl at Vernon St',\n",
       " 37.788975: 'Post St at Kearny St',\n",
       " 37.78487208436062: 'Yerba Buena Center for the Arts (Howard St at 3rd St)',\n",
       " 37.7704074: '4th St at Mission Bay Blvd S',\n",
       " 37.7839879: 'Father Alfred E Boeddeker Park',\n",
       " 37.776619: 'Market St at 10th St',\n",
       " 37.7518194: '24th St at Chattanooga St',\n",
       " 37.327581: 'Pierce Ave at Market St',\n",
       " 37.771916882623145: 'Fell St at Stanyan St',\n",
       " 37.7633158: '17th St at Valencia St',\n",
       " 37.8178269: 'San Pablo Ave at 27th St',\n",
       " 37.78100971717512: 'Howard St at Mary St',\n",
       " 37.79728: 'Davis St at Jackson St',\n",
       " 37.77779057034257: 'Victoria Manalo Draves Park',\n",
       " 37.7509004: 'Jersey St at Church St',\n",
       " 37.8660431: 'Haste St at Telegraph Ave',\n",
       " 37.7591769: 'Eureka Valley Recreation Center',\n",
       " 37.79539293725452: 'Washington St at Kearny St',\n",
       " 37.775946: 'Grove St at Divisadero',\n",
       " 37.8624644: 'Parker St at Fulton St',\n",
       " 37.8088479: 'El Embarcadero at Grand Ave',\n",
       " 37.7973195: 'Lake Merritt BART Station',\n",
       " 37.78734902316596: 'Hyde St at Post St',\n",
       " 37.8160598: '24th St at Market St',\n",
       " 37.7767539: '5th St at Brannan St',\n",
       " 37.752104984423575: '24th St at Bartlett St',\n",
       " 37.77523486860597: 'Townsend St at 5th St',\n",
       " 37.866249: 'Addison St at Fourth St',\n",
       " 37.79857210846256: 'Broadway at Battery St',\n",
       " 37.7693053: 'Market St at Dolores St',\n",
       " 37.3259984: '5th St at Virginia St',\n",
       " 37.8098236: 'Marston Campbell Park',\n",
       " 37.8723555: 'University Ave at Oxford St',\n",
       " 37.7524278: 'Valencia St at 24th St',\n",
       " 37.7479981: 'Valencia St at Cesar Chavez St',\n",
       " 37.342725: 'Ryland Park',\n",
       " 37.7472996: 'Precita Park',\n",
       " 37.8618037: 'Derby St at College Ave',\n",
       " 37.750506: 'Jersey St at Castro St',\n",
       " 37.7735069: '11th St at Natoma St',\n",
       " 37.8335577: '45th St at MLK Jr Way',\n",
       " 37.765052: 'Valencia St at 16th St',\n",
       " 37.7766392: 'San Francisco Caltrain Station 2  (Townsend St at 4th St)',\n",
       " 37.7896254: 'Montgomery St BART Station (Market St at 2nd St)',\n",
       " 37.7610471: '18th St at Noe St',\n",
       " 37.82669558640968: '37th St at West St',\n",
       " 37.73857187126725: 'Newhall St at 3rd St',\n",
       " 37.86641794050319: 'Haste St at College Ave',\n",
       " 37.78588062694133: 'Cyril Magnin St at Ellis St',\n",
       " 37.7880593: 'Beale St at Harrison St',\n",
       " 37.8677892: 'Fulton St at Bancroft Way',\n",
       " 37.335885: 'San Fernando St at 4th St',\n",
       " 37.7510171: 'Garfield Square (25th St at Harrison St)',\n",
       " 37.7440667: '29th St at Tiffany Ave',\n",
       " 37.8693603: 'Bancroft Way at College Ave',\n",
       " 37.8524766: 'Ashby BART Station',\n",
       " 37.7700298: '11th St at Bryant St',\n",
       " 37.8107432: '14th St at Mandela Pkwy',\n",
       " 37.7765126: 'Howard St at 8th St',\n",
       " 37.796470691622936: 'Leavenworth St at Broadway',\n",
       " 37.3229796: 'Locust St at Grant St',\n",
       " 37.80274615250053: 'Lombard St at Columbus Ave',\n",
       " 37.7632417: 'Sanchez St at 17th St',\n",
       " 37.8332935222321: '45th St at Manila',\n",
       " 37.7544356: '23rd St at San Bruno Ave',\n",
       " 37.3336577: 'Morrison Ave at Julian St',\n",
       " 37.7662185: 'Sanchez St at 15th St',\n",
       " 37.77341396997343: 'Koshland Park',\n",
       " 37.758862: 'Harrison St at 20th St',\n",
       " 37.8002135669698: '2nd Ave at E 18th St',\n",
       " 37.79413: 'Steuart St at Market St',\n",
       " 37.7700831: 'Church St at Duboce Ave',\n",
       " 37.772406: 'Page St at Scott St',\n",
       " 37.8688126: 'Bancroft Way at Telegraph Ave',\n",
       " 37.772300631747626: 'Mission Bay Kids Park',\n",
       " 37.78383: 'Folsom St at 3rd St',\n",
       " 37.769188178104585: 'Valencia St at Clinton Park',\n",
       " 37.8127441: 'Grand Ave at Santa Clara Ave',\n",
       " 37.8090126: '19th Street BART Station',\n",
       " 37.7605936: 'Folsom St at 19th St',\n",
       " 37.8053183: 'West Oakland BART Station',\n",
       " 37.7807601: 'S Park St at 3rd St',\n",
       " 37.78014570345598: '5th St at Folsom',\n",
       " 37.792251: 'Embarcadero BART Station (Beale St at Market St)',\n",
       " 37.787521780456245: 'Howard St at 2nd St',\n",
       " 37.80477: 'The Embarcadero at Sansome St',\n",
       " 37.35288682729121: 'Backesto Park (Jackson St at 13th St)',\n",
       " 37.7616343: 'Esprit Park',\n",
       " 37.78543382786823: 'Myrtle St at Polk St',\n",
       " 37.764555: 'Franklin Square',\n",
       " 37.34774456553247: 'Empire St at 7th St',\n",
       " 37.8013189: 'Lakeside Dr at 14th St',\n",
       " 37.776434819204745: 'Laguna St at Hayes St',\n",
       " 37.8467842: '65th St at Hollis St',\n",
       " 37.76704457969368: '4th St at 16th St',\n",
       " 37.8359455: '49th St at Telegraph Ave',\n",
       " 37.7647652154977: '16th St Mission BART Station 2',\n",
       " 37.7317266935217: 'Lane St at Revere Ave',\n",
       " 37.8717192: 'MLK Jr Way at University Ave',\n",
       " 37.34113203547954: '2nd St at Julian St',\n",
       " 37.7770527: 'Webster St at Grove St',\n",
       " 37.8559558: 'Telegraph Ave at Ashby Ave',\n",
       " 37.775910222333366: 'Bryant St at 6th St',\n",
       " 37.75823842417928: '20th St at Dolores St',\n",
       " 37.78389935708493: 'Powell St BART Station (Market St at 5th St)',\n",
       " 37.776598: 'San Francisco Caltrain (Townsend St at 4th St)',\n",
       " 37.771431362921085: '8th St at Brannan St',\n",
       " 37.8332786: 'Shattuck Ave at Telegraph Ave',\n",
       " 37.870139: 'Downtown Berkeley BART',\n",
       " 37.873558: 'North Berkeley BART Station',\n",
       " 37.78045005996349: 'Turk St at Fillmore St',\n",
       " 37.8505777: 'Woolsey St at Sacramento St',\n",
       " 37.78095459960753: '4th St at Harrison St',\n",
       " 37.78716801474664: 'The Embarcadero at Bryant St',\n",
       " 37.7824046019341: \"O'Farrell St at Divisadero St\",\n",
       " 37.77483629413345: 'Grove St at Masonic Ave',\n",
       " 37.766482696439496: 'Hubbell St at 16th St',\n",
       " 37.7810737: 'Civic Center/UN Plaza BART Station (Market St at McAllister St)',\n",
       " 37.77874161153677: '3rd St at Townsend St',\n",
       " 37.33618830029063: 'Fountain Alley at S 2nd St',\n",
       " 37.7719996: 'China Basin St at 3rd St',\n",
       " 37.8409452: '59th St at Horton St',\n",
       " 37.7614205: 'Mission Dolores Park',\n",
       " 37.3364659: 'San Carlos St at 11th St',\n",
       " 37.80000163118878: 'Jackson St at 11th St',\n",
       " 37.75728840784085: '22nd St Caltrain Station',\n",
       " 37.771058: 'Townsend St at 7th St',\n",
       " 37.7734919: '7th St at Brannan St',\n",
       " 37.795194764385954: 'Webster St at 2nd St',\n",
       " 37.85749021457153: 'Ellsworth St at Russell St',\n",
       " 37.78352083526095: \"Webster St at O'Farrell St\",\n",
       " 37.849735: 'Harmon St at Adeline St',\n",
       " 37.78729: '1st St at Folsom St',\n",
       " 37.88022244590679: 'Vine St at Shattuck Ave',\n",
       " 37.8384435: 'Stanford Ave at Hollis St',\n",
       " 37.7873267660624: 'Jones St at Post St',\n",
       " 37.86996670760404: 'West St at University Ave',\n",
       " 37.333798: 'Paseo De San Antonio at 2nd St',\n",
       " 37.7692005: 'Duboce Park',\n",
       " 37.791464: 'The Embarcadero at Steuart St',\n",
       " 37.8584732: 'Russell St at College Ave',\n",
       " 37.7816495: 'Golden Gate Ave at Hyde St',\n",
       " 37.8690599: 'Berkeley Civic Center',\n",
       " 37.83563220458518: '47th St at San Pablo Ave',\n",
       " 37.3477319: 'George St at 1st St',\n",
       " 37.8361823: '53rd St at Hollis St',\n",
       " 37.8302232: 'West St at 40th St',\n",
       " 37.76707850458367: '15th St at Potrero Ave',\n",
       " 37.76921786152374: 'Division St at Potrero Ave',\n",
       " 37.8113514: 'San Pablo Ave at MLK Jr Way',\n",
       " 37.3487586867448: 'Jackson St at 5th St',\n",
       " 37.788299978150825: 'Union Square (Powell St at Post St)',\n",
       " 37.795913: '4th Ave at E 12th St (Temporary Location)',\n",
       " 37.8465156: 'Bushrod Park',\n",
       " 37.7644783: 'Rhode Island St at 17th St',\n",
       " 37.769757: 'Folsom St at 13th St',\n",
       " 37.87657254910685: 'Virginia St at Shattuck Ave',\n",
       " 37.76471008581914: '16th St Mission BART',\n",
       " 37.8110807: 'Lakeshore Ave at Trestle Glen Rd',\n",
       " 37.779046658472055: 'Masonic Ave at Turk St',\n",
       " 37.4: 'Others',\n",
       " 37.7638471: 'Harrison St at 17th St',\n",
       " 37.77166246221617: 'McCoppin St at Valencia St',\n",
       " 37.7637085: '17th & Folsom Street Park (17th St at Folsom St)',\n",
       " 37.7976728: '10th St at Fallon St',\n",
       " 37.8225475: '34th St at Telegraph Ave',\n",
       " 37.3319323: 'The Alameda at Bush St',\n",
       " 37.3383952: '9th St at San Fernando St',\n",
       " 37.7592005: '20th St at Bryant St',\n",
       " 37.789756: 'Howard St at Beale St',\n",
       " 37.7478584: 'Cesar Chavez St at Dolores St',\n",
       " 37.8401858: '55th St at Telegraph Ave',\n",
       " 37.774814: 'S Van Ness Ave at Market St',\n",
       " 37.7789994: 'Scott St at Golden Gate Ave',\n",
       " 37.7682646: '14th St at Mission St',\n",
       " 37.7648022: 'Mississippi St at 17th St',\n",
       " 37.77754677017323: 'Alamo Square (Steiner St at Fulton St)',\n",
       " 37.8368013: 'Shattuck Ave at 51st St',\n",
       " 37.82840997305853: 'MacArthur BART Station',\n",
       " 37.8040367840236: 'Madison St at 17th St',\n",
       " 37.8297046: 'Horton St at 40th St',\n",
       " 37.87511169286445: 'Hearst Ave at Euclid Ave',\n",
       " 37.7670373: 'Folsom St at 15th St',\n",
       " 37.7604469: '19th St at Florida St',\n",
       " 37.849594967776646: 'Alcatraz Ave at Shattuck Ave',\n",
       " 37.3371223728942: 'San Fernando St at 7th St',\n",
       " 37.8061628: 'MLK Jr Way at 14th St',\n",
       " 37.86012459911685: 'Milvia St at Derby St',\n",
       " 37.8513755: 'College Ave at Alcatraz Ave',\n",
       " 37.8007544: 'Washington St at 8th St',\n",
       " 37.745738796183325: 'Guerrero Park',\n",
       " 37.8575672: 'Oregon St at Adeline St',\n",
       " 37.77610091264586: 'Parker Ave at McAllister St',\n",
       " 37.755367132158526: '23rd St at Tennessee St',\n",
       " 37.795001: 'Clay St at Battery St',\n",
       " 37.8277573: 'Broadway at 40th St',\n",
       " 37.78749210438603: 'Salesforce Transit Center (Natoma St at 2nd St)',\n",
       " 37.8087021: 'Telegraph Ave at 19th St',\n",
       " 37.84052116694969: 'Emeryville Public Market',\n",
       " 37.78127: 'Golden Gate Ave at Polk St',\n",
       " 37.8444927: 'Telegraph Ave at 58th St',\n",
       " 37.77993: 'Foothill Blvd at Harrington Ave',\n",
       " 37.799953: 'The Embarcadero at Vallejo St',\n",
       " 37.764285: '16th St at Prosper St',\n",
       " 37.771762110313176: 'Berry St at King St',\n",
       " 37.8357883: 'Broadway at Coronado Ave',\n",
       " 37.834174: 'Market St at 45th St',\n",
       " 37.7913: 'Mechanics Monument Plaza (Market St at Bush St)',\n",
       " 37.8426295: 'Dover St at 57th St',\n",
       " 37.8388: 'Miles Ave at Cavour St',\n",
       " 37.84427875399067: 'Rockridge BART Station',\n",
       " 37.870407115465376: 'Fifth St at Delaware St',\n",
       " 37.848152: 'College Ave at Harwood Ave',\n",
       " 37.87055532905745: 'California St at University Ave',\n",
       " 37.8072393: 'Union St at 10th St',\n",
       " 37.33203868095132: '5th St at San Salvador St',\n",
       " 37.82489252995112: 'Mosswood Park',\n",
       " 37.3327938: 'William St at 10th St',\n",
       " 37.3510173: '5th St at Taylor St',\n",
       " 37.3322326: 'Julian St at The Alameda',\n",
       " 37.7668828: 'Irwin St at 8th St',\n",
       " 37.8233214: 'Market St at Brockhurst St',\n",
       " 37.8312769: 'Adeline St at 40th St',\n",
       " 37.7423139: '30th St at San Jose Ave',\n",
       " 37.7896767: 'Spear St at Folsom St',\n",
       " 37.8170154: '27th St at MLK Jr Way',\n",
       " 37.77865: 'San Francisco City Hall (Polk St at Grove St)',\n",
       " 37.75500026037814: '22nd St at Dolores St',\n",
       " 37.8045623549303: 'Frank H Ogawa Plaza',\n",
       " 37.8403643: 'Shattuck Ave at 55th St',\n",
       " 37.7807871267462: 'Golden Gate Ave at Franklin St',\n",
       " 37.8193814: 'Broadway at 30th St',\n",
       " 37.7671004: 'Bryant St at 15th St',\n",
       " 37.8113768: 'Grand Ave at Webster St',\n",
       " 37.3429973: 'Julian St at 6th St',\n",
       " 37.3391456: 'Santa Clara St at 7th St',\n",
       " 37.80874983465997: '14th St at Filbert St',\n",
       " 37.8312752: 'Emeryville Town Hall',\n",
       " 37.32911866814779: 'Cahill Park',\n",
       " 37.78381270927812: 'Raymond Kimbell Playground',\n",
       " 37.3413348: 'Autumn Parkway at Coleman Ave',\n",
       " 37.81498823042416: 'Isabella St at San Pablo Ave',\n",
       " 37.333955: 'San Salvador St at 9th St',\n",
       " 37.816073115011406: 'Telegraph Ave at 27th St',\n",
       " 37.41: 'Others',\n",
       " 37.80318908113163: '13th St at Franklin St',\n",
       " 37.8419238: 'Doyle St at 59th St',\n",
       " 37.796248: 'Jack London Square',\n",
       " 37.332692: 'SAP Center',\n",
       " 37.85022187449679: 'Telegraph Ave at Alcatraz Ave',\n",
       " 37.330698: 'San Carlos St at Market St',\n",
       " 37.86906047545393: '10th St at University Ave',\n",
       " 37.8534894: 'Ninth St at Heinz Ave',\n",
       " 37.8305452: 'Market St at 40th St',\n",
       " 37.7851915: '23rd Ave at Foothill Blvd',\n",
       " 37.3236779: 'Bestor Art Park',\n",
       " 37.8238474: '32nd St at Adeline St',\n",
       " 37.8123315: 'DeFremery Park',\n",
       " 37.336802: 'San Pedro Square',\n",
       " 37.330165: 'San Salvador St at 1st St',\n",
       " 37.85557366182879: 'Fulton St at Ashby Ave',\n",
       " 37.8588682: 'Ninth St at Parker St',\n",
       " 37.35306166133104: 'Taylor St at 9th St',\n",
       " 37.3448821: 'Empire St at 1st St',\n",
       " 37.8005161: 'Franklin St at 9th St',\n",
       " 37.80696976095594: 'Webster St at 19th St',\n",
       " 37.85578332030199: 'San Pablo Park',\n",
       " 37.8417999: 'College Ave at Taft Ave',\n",
       " 37.8036865: 'Market St at 8th St',\n",
       " 37.80781318217903: 'Snow Park',\n",
       " 37.79013985185364: 'San Antonio Park',\n",
       " 37.337391: 'San Jose City Hall',\n",
       " 37.3302641: 'Delmas Ave and San Fernando St',\n",
       " 37.739853017984125: 'Mendell St at Fairfax Ave',\n",
       " 37.333988: 'Santa Clara St at Almaden Blvd',\n",
       " 37.8381269: 'College Ave at Bryant Ave',\n",
       " 37.7837569: 'Foothill Blvd at Fruitvale Ave',\n",
       " 37.3172979: 'Palm St at Willow St',\n",
       " 37.339301: 'Saint James Park',\n",
       " 37.39: 'Others',\n",
       " 37.72927865173028: 'Williams Ave at 3rd St',\n",
       " 37.38: 'Others',\n",
       " 37.332426301252056: 'Market St at Park St',\n",
       " 37.32673: 'Almaden Blvd at Balbach St',\n",
       " 37.331415: 'Almaden Blvd at San Fernando St',\n",
       " 37.7757452: 'Foothill Blvd at 42nd Ave',\n",
       " 37.7752321: 'Fruitvale BART Station',\n",
       " 37.8262863: 'MacArthur Blvd at Telegraph Ave',\n",
       " 37.73016750815088: 'Williams Ave at Apollo St',\n",
       " 37.3509643: 'Mission St at 1st St',\n",
       " 37.352601: 'San Pedro St at Hedding St',\n",
       " 37.322124625448566: 'Oak St at 1st St',\n",
       " 37.778058: 'Farnam St at Fruitvale Ave',\n",
       " 37.42: 'Others',\n",
       " 37.781123: '26th Ave at International Blvd',\n",
       " 37.766348585937386: '16th St Depot',\n",
       " 37.78485466229441: '21st Ave at International Blvd',\n",
       " 37.3184498: 'Willow St at Vine St',\n",
       " 37.43: 'Others',\n",
       " 37.78499972833808: '2nd St at Folsom St'}"
      ]
     },
     "execution_count": 13,
     "metadata": {},
     "output_type": "execute_result"
    }
   ],
   "source": [
    "#location= pd.Series(df_clean.start_station_name.values,index=df_clean.start_station_latitude).to_dict()\n",
    "location=df_clean.set_index('end_station_latitude').to_dict()['end_station_name']\n",
    "location"
   ]
  },
  {
   "cell_type": "markdown",
   "metadata": {},
   "source": [
    "The above shows that there are some latitudes that do not have a station name assigned to them. As they are crucial to this exercise i will fill them with others"
   ]
  },
  {
   "cell_type": "code",
   "execution_count": 5,
   "metadata": {},
   "outputs": [],
   "source": [
    "# The below code is to fill the station names that are empty with others\n",
    "df_clean.start_station_name.fillna('Others', inplace=True)\n",
    "df_clean.end_station_name.fillna('Others', inplace=True)\n"
   ]
  },
  {
   "cell_type": "code",
   "execution_count": 6,
   "metadata": {
    "scrolled": true
   },
   "outputs": [
    {
     "data": {
      "text/plain": [
       "duration_sec                  0\n",
       "start_time                    0\n",
       "end_time                      0\n",
       "start_station_id            197\n",
       "start_station_name            0\n",
       "start_station_latitude        0\n",
       "start_station_longitude       0\n",
       "end_station_id              197\n",
       "end_station_name              0\n",
       "end_station_latitude          0\n",
       "end_station_longitude         0\n",
       "bike_id                       0\n",
       "user_type                     0\n",
       "member_birth_year          8265\n",
       "member_gender              8265\n",
       "bike_share_for_all_trip       0\n",
       "dtype: int64"
      ]
     },
     "execution_count": 6,
     "metadata": {},
     "output_type": "execute_result"
    }
   ],
   "source": [
    "#To check if all null field in the station names are filled\n",
    "df_clean.isna().sum()"
   ]
  },
  {
   "cell_type": "markdown",
   "metadata": {},
   "source": [
    "As we can see there are still other fields that have null values and these values are not easily filled so i am going to extract the rows that have all fields complete and use it for the analysis"
   ]
  },
  {
   "cell_type": "code",
   "execution_count": 7,
   "metadata": {},
   "outputs": [
    {
     "name": "stdout",
     "output_type": "stream",
     "text": [
      "<class 'pandas.core.frame.DataFrame'>\n",
      "Int64Index: 174952 entries, 0 to 183411\n",
      "Data columns (total 16 columns):\n",
      " #   Column                   Non-Null Count   Dtype   \n",
      "---  ------                   --------------   -----   \n",
      " 0   duration_sec             174952 non-null  int64   \n",
      " 1   start_time               174952 non-null  object  \n",
      " 2   end_time                 174952 non-null  object  \n",
      " 3   start_station_id         174952 non-null  float64 \n",
      " 4   start_station_name       174952 non-null  object  \n",
      " 5   start_station_latitude   174952 non-null  float64 \n",
      " 6   start_station_longitude  174952 non-null  float64 \n",
      " 7   end_station_id           174952 non-null  float64 \n",
      " 8   end_station_name         174952 non-null  object  \n",
      " 9   end_station_latitude     174952 non-null  float64 \n",
      " 10  end_station_longitude    174952 non-null  float64 \n",
      " 11  bike_id                  174952 non-null  int64   \n",
      " 12  user_type                174952 non-null  category\n",
      " 13  member_birth_year        174952 non-null  float64 \n",
      " 14  member_gender            174952 non-null  category\n",
      " 15  bike_share_for_all_trip  174952 non-null  category\n",
      "dtypes: category(3), float64(7), int64(2), object(4)\n",
      "memory usage: 19.2+ MB\n"
     ]
    }
   ],
   "source": [
    "df_filter = df_clean.loc[df_clean.notnull().all(1)].copy()\n",
    "df_filter.info()"
   ]
  },
  {
   "cell_type": "code",
   "execution_count": 44,
   "metadata": {},
   "outputs": [
    {
     "data": {
      "text/plain": [
       "duration_sec                 4429\n",
       "start_time                 174941\n",
       "end_time                   174939\n",
       "start_station_id              329\n",
       "start_station_name            329\n",
       "start_station_latitude        329\n",
       "start_station_longitude       329\n",
       "end_station_id                329\n",
       "end_station_name              329\n",
       "end_station_latitude          329\n",
       "end_station_longitude         329\n",
       "bike_id                      4607\n",
       "user_type                       2\n",
       "member_birth_year              75\n",
       "member_gender                   3\n",
       "bike_share_for_all_trip         2\n",
       "dtype: int64"
      ]
     },
     "execution_count": 44,
     "metadata": {},
     "output_type": "execute_result"
    }
   ],
   "source": [
    "df_filter.nunique()"
   ]
  },
  {
   "cell_type": "markdown",
   "metadata": {},
   "source": [
    "## Univariate Exploration\n",
    "\n",
    "> In this section, investigate distributions of individual variables. If\n",
    "you see unusual points or outliers, take a deeper look to clean things up\n",
    "and prepare yourself to look at relationships between variables.\n",
    "\n",
    "\n",
    "> **Rubric Tip**: The project (Parts I alone) should have at least 15 visualizations distributed over univariate, bivariate, and multivariate plots to explore many relationships in the data set.  Use reasoning to justify the flow of the exploration.\n",
    "\n",
    "\n",
    "\n",
    ">**Rubric Tip**: Use the \"Question-Visualization-Observations\" framework  throughout the exploration. This framework involves **asking a question from the data, creating a visualization to find answers, and then recording observations after each visualisation.** \n"
   ]
  },
  {
   "cell_type": "markdown",
   "metadata": {},
   "source": [
    "#### 1. What are the type of users of the fordgo bike"
   ]
  },
  {
   "cell_type": "code",
   "execution_count": 28,
   "metadata": {},
   "outputs": [
    {
     "data": {
      "text/plain": [
       "Subscriber    158386\n",
       "Customer       16566\n",
       "Name: user_type, dtype: int64"
      ]
     },
     "execution_count": 28,
     "metadata": {},
     "output_type": "execute_result"
    }
   ],
   "source": [
    "df_filter.user_type.value_counts()"
   ]
  },
  {
   "cell_type": "code",
   "execution_count": 29,
   "metadata": {},
   "outputs": [
    {
     "data": {
      "text/plain": [
       "Text(0, 0.5, '')"
      ]
     },
     "execution_count": 29,
     "metadata": {},
     "output_type": "execute_result"
    },
    {
     "data": {
      "image/png": "[encoded data removed]",
      "text/plain": [
       "<Figure size 500x500 with 1 Axes>"
      ]
     },
     "metadata": {},
     "output_type": "display_data"
    }
   ],
   "source": [
    "#To visualize the distribution\n",
    "ax=df_filter['user_type'].value_counts().plot(kind='pie',autopct='%1.0f%%',title='Distribution of customers renting the bikes',\n",
    "                                          figsize=(5,5))\n",
    "ax.set_ylabel('')"
   ]
  },
  {
   "cell_type": "markdown",
   "metadata": {},
   "source": [
    "There are two sets of users of the fordgo bikes in the data set. 91% of the user are Subscribers while 9% are just customers"
   ]
  },
  {
   "cell_type": "markdown",
   "metadata": {},
   "source": [
    "#### 2. What is the number of the genders that rent the bikes"
   ]
  },
  {
   "cell_type": "code",
   "execution_count": 30,
   "metadata": {},
   "outputs": [
    {
     "data": {
      "text/plain": [
       "Male      130500\n",
       "Female     40805\n",
       "Other       3647\n",
       "Name: member_gender, dtype: int64"
      ]
     },
     "execution_count": 30,
     "metadata": {},
     "output_type": "execute_result"
    }
   ],
   "source": [
    "# To get the value count of each of the genders\n",
    "df_filter.member_gender.value_counts()"
   ]
  },
  {
   "cell_type": "code",
   "execution_count": 43,
   "metadata": {
    "scrolled": true
   },
   "outputs": [
    {
     "data": {
      "image/png": "[encoded data removed]",
      "text/plain": [
       "<Figure size 500x300 with 1 Axes>"
      ]
     },
     "metadata": {},
     "output_type": "display_data"
    }
   ],
   "source": [
    "# To visualize the distribution of the genders renting the bikes\n",
    "ax=df_filter['member_gender'].hist(figsize=(5,3))\n",
    "ax.grid(False)"
   ]
  },
  {
   "cell_type": "markdown",
   "metadata": {},
   "source": [
    "The above chart shows that majority of the bike renters were male with above 120,000 members, between 40,000 and 50,000 were female and others were less that 20,000"
   ]
  },
  {
   "cell_type": "markdown",
   "metadata": {},
   "source": [
    "#### 3. What month did users rent the most bikes"
   ]
  },
  {
   "cell_type": "code",
   "execution_count": 8,
   "metadata": {},
   "outputs": [],
   "source": [
    "df_filter[['date_start','time_start']] = df_filter['start_time'].str.split(' ', expand=True)\n",
    "df_filter[['date_end','time_end']] = df_filter['end_time'].str.split(' ', expand=True)"
   ]
  },
  {
   "cell_type": "code",
   "execution_count": 9,
   "metadata": {},
   "outputs": [],
   "source": [
    "df_filter[['date_end','time_end']] = df_filter['end_time'].str.split(' ', expand=True)"
   ]
  },
  {
   "cell_type": "code",
   "execution_count": 10,
   "metadata": {
    "scrolled": true
   },
   "outputs": [
    {
     "data": {
      "text/html": [
       "<div>\n",
       "<style scoped>\n",
       "    .dataframe tbody tr th:only-of-type {\n",
       "        vertical-align: middle;\n",
       "    }\n",
       "\n",
       "    .dataframe tbody tr th {\n",
       "        vertical-align: top;\n",
       "    }\n",
       "\n",
       "    .dataframe thead th {\n",
       "        text-align: right;\n",
       "    }\n",
       "</style>\n",
       "<table border=\"1\" class=\"dataframe\">\n",
       "  <thead>\n",
       "    <tr style=\"text-align: right;\">\n",
       "      <th></th>\n",
       "      <th>duration_sec</th>\n",
       "      <th>start_time</th>\n",
       "      <th>end_time</th>\n",
       "      <th>start_station_id</th>\n",
       "      <th>start_station_name</th>\n",
       "      <th>start_station_latitude</th>\n",
       "      <th>start_station_longitude</th>\n",
       "      <th>end_station_id</th>\n",
       "      <th>end_station_name</th>\n",
       "      <th>end_station_latitude</th>\n",
       "      <th>end_station_longitude</th>\n",
       "      <th>bike_id</th>\n",
       "      <th>user_type</th>\n",
       "      <th>member_birth_year</th>\n",
       "      <th>member_gender</th>\n",
       "      <th>bike_share_for_all_trip</th>\n",
       "      <th>date_start</th>\n",
       "      <th>time_start</th>\n",
       "      <th>date_end</th>\n",
       "      <th>time_end</th>\n",
       "    </tr>\n",
       "  </thead>\n",
       "  <tbody>\n",
       "    <tr>\n",
       "      <th>0</th>\n",
       "      <td>52185</td>\n",
       "      <td>2019-02-28 17:32:10.1450</td>\n",
       "      <td>2019-03-01 08:01:55.9750</td>\n",
       "      <td>21.0</td>\n",
       "      <td>Montgomery St BART Station (Market St at 2nd St)</td>\n",
       "      <td>37.789625</td>\n",
       "      <td>-122.400811</td>\n",
       "      <td>13.0</td>\n",
       "      <td>Commercial St at Montgomery St</td>\n",
       "      <td>37.794231</td>\n",
       "      <td>-122.402923</td>\n",
       "      <td>4902</td>\n",
       "      <td>Customer</td>\n",
       "      <td>1984.0</td>\n",
       "      <td>Male</td>\n",
       "      <td>No</td>\n",
       "      <td>2019-02-28</td>\n",
       "      <td>17:32:10.1450</td>\n",
       "      <td>2019-03-01</td>\n",
       "      <td>08:01:55.9750</td>\n",
       "    </tr>\n",
       "    <tr>\n",
       "      <th>2</th>\n",
       "      <td>61854</td>\n",
       "      <td>2019-02-28 12:13:13.2180</td>\n",
       "      <td>2019-03-01 05:24:08.1460</td>\n",
       "      <td>86.0</td>\n",
       "      <td>Market St at Dolores St</td>\n",
       "      <td>37.769305</td>\n",
       "      <td>-122.426826</td>\n",
       "      <td>3.0</td>\n",
       "      <td>Powell St BART Station (Market St at 4th St)</td>\n",
       "      <td>37.786375</td>\n",
       "      <td>-122.404904</td>\n",
       "      <td>5905</td>\n",
       "      <td>Customer</td>\n",
       "      <td>1972.0</td>\n",
       "      <td>Male</td>\n",
       "      <td>No</td>\n",
       "      <td>2019-02-28</td>\n",
       "      <td>12:13:13.2180</td>\n",
       "      <td>2019-03-01</td>\n",
       "      <td>05:24:08.1460</td>\n",
       "    </tr>\n",
       "    <tr>\n",
       "      <th>3</th>\n",
       "      <td>36490</td>\n",
       "      <td>2019-02-28 17:54:26.0100</td>\n",
       "      <td>2019-03-01 04:02:36.8420</td>\n",
       "      <td>375.0</td>\n",
       "      <td>Grove St at Masonic Ave</td>\n",
       "      <td>37.774836</td>\n",
       "      <td>-122.446546</td>\n",
       "      <td>70.0</td>\n",
       "      <td>Central Ave at Fell St</td>\n",
       "      <td>37.773311</td>\n",
       "      <td>-122.444293</td>\n",
       "      <td>6638</td>\n",
       "      <td>Subscriber</td>\n",
       "      <td>1989.0</td>\n",
       "      <td>Other</td>\n",
       "      <td>No</td>\n",
       "      <td>2019-02-28</td>\n",
       "      <td>17:54:26.0100</td>\n",
       "      <td>2019-03-01</td>\n",
       "      <td>04:02:36.8420</td>\n",
       "    </tr>\n",
       "    <tr>\n",
       "      <th>4</th>\n",
       "      <td>1585</td>\n",
       "      <td>2019-02-28 23:54:18.5490</td>\n",
       "      <td>2019-03-01 00:20:44.0740</td>\n",
       "      <td>7.0</td>\n",
       "      <td>Frank H Ogawa Plaza</td>\n",
       "      <td>37.804562</td>\n",
       "      <td>-122.271738</td>\n",
       "      <td>222.0</td>\n",
       "      <td>10th Ave at E 15th St</td>\n",
       "      <td>37.792714</td>\n",
       "      <td>-122.248780</td>\n",
       "      <td>4898</td>\n",
       "      <td>Subscriber</td>\n",
       "      <td>1974.0</td>\n",
       "      <td>Male</td>\n",
       "      <td>Yes</td>\n",
       "      <td>2019-02-28</td>\n",
       "      <td>23:54:18.5490</td>\n",
       "      <td>2019-03-01</td>\n",
       "      <td>00:20:44.0740</td>\n",
       "    </tr>\n",
       "    <tr>\n",
       "      <th>5</th>\n",
       "      <td>1793</td>\n",
       "      <td>2019-02-28 23:49:58.6320</td>\n",
       "      <td>2019-03-01 00:19:51.7600</td>\n",
       "      <td>93.0</td>\n",
       "      <td>4th St at Mission Bay Blvd S</td>\n",
       "      <td>37.770407</td>\n",
       "      <td>-122.391198</td>\n",
       "      <td>323.0</td>\n",
       "      <td>Broadway at Kearny</td>\n",
       "      <td>37.798014</td>\n",
       "      <td>-122.405950</td>\n",
       "      <td>5200</td>\n",
       "      <td>Subscriber</td>\n",
       "      <td>1959.0</td>\n",
       "      <td>Male</td>\n",
       "      <td>No</td>\n",
       "      <td>2019-02-28</td>\n",
       "      <td>23:49:58.6320</td>\n",
       "      <td>2019-03-01</td>\n",
       "      <td>00:19:51.7600</td>\n",
       "    </tr>\n",
       "  </tbody>\n",
       "</table>\n",
       "</div>"
      ],
      "text/plain": [
       "   duration_sec                start_time                  end_time  \\\n",
       "0         52185  2019-02-28 17:32:10.1450  2019-03-01 08:01:55.9750   \n",
       "2         61854  2019-02-28 12:13:13.2180  2019-03-01 05:24:08.1460   \n",
       "3         36490  2019-02-28 17:54:26.0100  2019-03-01 04:02:36.8420   \n",
       "4          1585  2019-02-28 23:54:18.5490  2019-03-01 00:20:44.0740   \n",
       "5          1793  2019-02-28 23:49:58.6320  2019-03-01 00:19:51.7600   \n",
       "\n",
       "   start_station_id                                start_station_name  \\\n",
       "0              21.0  Montgomery St BART Station (Market St at 2nd St)   \n",
       "2              86.0                           Market St at Dolores St   \n",
       "3             375.0                           Grove St at Masonic Ave   \n",
       "4               7.0                               Frank H Ogawa Plaza   \n",
       "5              93.0                      4th St at Mission Bay Blvd S   \n",
       "\n",
       "   start_station_latitude  start_station_longitude  end_station_id  \\\n",
       "0               37.789625              -122.400811            13.0   \n",
       "2               37.769305              -122.426826             3.0   \n",
       "3               37.774836              -122.446546            70.0   \n",
       "4               37.804562              -122.271738           222.0   \n",
       "5               37.770407              -122.391198           323.0   \n",
       "\n",
       "                               end_station_name  end_station_latitude  \\\n",
       "0                Commercial St at Montgomery St             37.794231   \n",
       "2  Powell St BART Station (Market St at 4th St)             37.786375   \n",
       "3                        Central Ave at Fell St             37.773311   \n",
       "4                         10th Ave at E 15th St             37.792714   \n",
       "5                            Broadway at Kearny             37.798014   \n",
       "\n",
       "   end_station_longitude  bike_id   user_type  member_birth_year  \\\n",
       "0            -122.402923     4902    Customer             1984.0   \n",
       "2            -122.404904     5905    Customer             1972.0   \n",
       "3            -122.444293     6638  Subscriber             1989.0   \n",
       "4            -122.248780     4898  Subscriber             1974.0   \n",
       "5            -122.405950     5200  Subscriber             1959.0   \n",
       "\n",
       "  member_gender bike_share_for_all_trip  date_start     time_start  \\\n",
       "0          Male                      No  2019-02-28  17:32:10.1450   \n",
       "2          Male                      No  2019-02-28  12:13:13.2180   \n",
       "3         Other                      No  2019-02-28  17:54:26.0100   \n",
       "4          Male                     Yes  2019-02-28  23:54:18.5490   \n",
       "5          Male                      No  2019-02-28  23:49:58.6320   \n",
       "\n",
       "     date_end       time_end  \n",
       "0  2019-03-01  08:01:55.9750  \n",
       "2  2019-03-01  05:24:08.1460  \n",
       "3  2019-03-01  04:02:36.8420  \n",
       "4  2019-03-01  00:20:44.0740  \n",
       "5  2019-03-01  00:19:51.7600  "
      ]
     },
     "execution_count": 10,
     "metadata": {},
     "output_type": "execute_result"
    }
   ],
   "source": [
    "df_filter.head()"
   ]
  },
  {
   "cell_type": "code",
   "execution_count": 11,
   "metadata": {
    "scrolled": true
   },
   "outputs": [],
   "source": [
    "df_filter.date_start = pd.to_datetime(df_filter.date_start)"
   ]
  },
  {
   "cell_type": "code",
   "execution_count": 12,
   "metadata": {},
   "outputs": [],
   "source": [
    "df_filter.date_end = pd.to_datetime(df_filter.date_end)"
   ]
  },
  {
   "cell_type": "code",
   "execution_count": 13,
   "metadata": {},
   "outputs": [
    {
     "data": {
      "text/html": [
       "<div>\n",
       "<style scoped>\n",
       "    .dataframe tbody tr th:only-of-type {\n",
       "        vertical-align: middle;\n",
       "    }\n",
       "\n",
       "    .dataframe tbody tr th {\n",
       "        vertical-align: top;\n",
       "    }\n",
       "\n",
       "    .dataframe thead th {\n",
       "        text-align: right;\n",
       "    }\n",
       "</style>\n",
       "<table border=\"1\" class=\"dataframe\">\n",
       "  <thead>\n",
       "    <tr style=\"text-align: right;\">\n",
       "      <th></th>\n",
       "      <th>duration_sec</th>\n",
       "      <th>start_time</th>\n",
       "      <th>end_time</th>\n",
       "      <th>start_station_id</th>\n",
       "      <th>start_station_name</th>\n",
       "      <th>start_station_latitude</th>\n",
       "      <th>start_station_longitude</th>\n",
       "      <th>end_station_id</th>\n",
       "      <th>end_station_name</th>\n",
       "      <th>end_station_latitude</th>\n",
       "      <th>...</th>\n",
       "      <th>user_type</th>\n",
       "      <th>member_birth_year</th>\n",
       "      <th>member_gender</th>\n",
       "      <th>bike_share_for_all_trip</th>\n",
       "      <th>date_start</th>\n",
       "      <th>time_start</th>\n",
       "      <th>date_end</th>\n",
       "      <th>time_end</th>\n",
       "      <th>start_month</th>\n",
       "      <th>start_day</th>\n",
       "    </tr>\n",
       "  </thead>\n",
       "  <tbody>\n",
       "    <tr>\n",
       "      <th>0</th>\n",
       "      <td>52185</td>\n",
       "      <td>2019-02-28 17:32:10.1450</td>\n",
       "      <td>2019-03-01 08:01:55.9750</td>\n",
       "      <td>21.0</td>\n",
       "      <td>Montgomery St BART Station (Market St at 2nd St)</td>\n",
       "      <td>37.789625</td>\n",
       "      <td>-122.400811</td>\n",
       "      <td>13.0</td>\n",
       "      <td>Commercial St at Montgomery St</td>\n",
       "      <td>37.794231</td>\n",
       "      <td>...</td>\n",
       "      <td>Customer</td>\n",
       "      <td>1984.0</td>\n",
       "      <td>Male</td>\n",
       "      <td>No</td>\n",
       "      <td>2019-02-28</td>\n",
       "      <td>17:32:10.1450</td>\n",
       "      <td>2019-03-01</td>\n",
       "      <td>08:01:55.9750</td>\n",
       "      <td>February</td>\n",
       "      <td>Thursday</td>\n",
       "    </tr>\n",
       "    <tr>\n",
       "      <th>2</th>\n",
       "      <td>61854</td>\n",
       "      <td>2019-02-28 12:13:13.2180</td>\n",
       "      <td>2019-03-01 05:24:08.1460</td>\n",
       "      <td>86.0</td>\n",
       "      <td>Market St at Dolores St</td>\n",
       "      <td>37.769305</td>\n",
       "      <td>-122.426826</td>\n",
       "      <td>3.0</td>\n",
       "      <td>Powell St BART Station (Market St at 4th St)</td>\n",
       "      <td>37.786375</td>\n",
       "      <td>...</td>\n",
       "      <td>Customer</td>\n",
       "      <td>1972.0</td>\n",
       "      <td>Male</td>\n",
       "      <td>No</td>\n",
       "      <td>2019-02-28</td>\n",
       "      <td>12:13:13.2180</td>\n",
       "      <td>2019-03-01</td>\n",
       "      <td>05:24:08.1460</td>\n",
       "      <td>February</td>\n",
       "      <td>Thursday</td>\n",
       "    </tr>\n",
       "    <tr>\n",
       "      <th>3</th>\n",
       "      <td>36490</td>\n",
       "      <td>2019-02-28 17:54:26.0100</td>\n",
       "      <td>2019-03-01 04:02:36.8420</td>\n",
       "      <td>375.0</td>\n",
       "      <td>Grove St at Masonic Ave</td>\n",
       "      <td>37.774836</td>\n",
       "      <td>-122.446546</td>\n",
       "      <td>70.0</td>\n",
       "      <td>Central Ave at Fell St</td>\n",
       "      <td>37.773311</td>\n",
       "      <td>...</td>\n",
       "      <td>Subscriber</td>\n",
       "      <td>1989.0</td>\n",
       "      <td>Other</td>\n",
       "      <td>No</td>\n",
       "      <td>2019-02-28</td>\n",
       "      <td>17:54:26.0100</td>\n",
       "      <td>2019-03-01</td>\n",
       "      <td>04:02:36.8420</td>\n",
       "      <td>February</td>\n",
       "      <td>Thursday</td>\n",
       "    </tr>\n",
       "    <tr>\n",
       "      <th>4</th>\n",
       "      <td>1585</td>\n",
       "      <td>2019-02-28 23:54:18.5490</td>\n",
       "      <td>2019-03-01 00:20:44.0740</td>\n",
       "      <td>7.0</td>\n",
       "      <td>Frank H Ogawa Plaza</td>\n",
       "      <td>37.804562</td>\n",
       "      <td>-122.271738</td>\n",
       "      <td>222.0</td>\n",
       "      <td>10th Ave at E 15th St</td>\n",
       "      <td>37.792714</td>\n",
       "      <td>...</td>\n",
       "      <td>Subscriber</td>\n",
       "      <td>1974.0</td>\n",
       "      <td>Male</td>\n",
       "      <td>Yes</td>\n",
       "      <td>2019-02-28</td>\n",
       "      <td>23:54:18.5490</td>\n",
       "      <td>2019-03-01</td>\n",
       "      <td>00:20:44.0740</td>\n",
       "      <td>February</td>\n",
       "      <td>Thursday</td>\n",
       "    </tr>\n",
       "    <tr>\n",
       "      <th>5</th>\n",
       "      <td>1793</td>\n",
       "      <td>2019-02-28 23:49:58.6320</td>\n",
       "      <td>2019-03-01 00:19:51.7600</td>\n",
       "      <td>93.0</td>\n",
       "      <td>4th St at Mission Bay Blvd S</td>\n",
       "      <td>37.770407</td>\n",
       "      <td>-122.391198</td>\n",
       "      <td>323.0</td>\n",
       "      <td>Broadway at Kearny</td>\n",
       "      <td>37.798014</td>\n",
       "      <td>...</td>\n",
       "      <td>Subscriber</td>\n",
       "      <td>1959.0</td>\n",
       "      <td>Male</td>\n",
       "      <td>No</td>\n",
       "      <td>2019-02-28</td>\n",
       "      <td>23:49:58.6320</td>\n",
       "      <td>2019-03-01</td>\n",
       "      <td>00:19:51.7600</td>\n",
       "      <td>February</td>\n",
       "      <td>Thursday</td>\n",
       "    </tr>\n",
       "  </tbody>\n",
       "</table>\n",
       "<p>5 rows × 22 columns</p>\n",
       "</div>"
      ],
      "text/plain": [
       "   duration_sec                start_time                  end_time  \\\n",
       "0         52185  2019-02-28 17:32:10.1450  2019-03-01 08:01:55.9750   \n",
       "2         61854  2019-02-28 12:13:13.2180  2019-03-01 05:24:08.1460   \n",
       "3         36490  2019-02-28 17:54:26.0100  2019-03-01 04:02:36.8420   \n",
       "4          1585  2019-02-28 23:54:18.5490  2019-03-01 00:20:44.0740   \n",
       "5          1793  2019-02-28 23:49:58.6320  2019-03-01 00:19:51.7600   \n",
       "\n",
       "   start_station_id                                start_station_name  \\\n",
       "0              21.0  Montgomery St BART Station (Market St at 2nd St)   \n",
       "2              86.0                           Market St at Dolores St   \n",
       "3             375.0                           Grove St at Masonic Ave   \n",
       "4               7.0                               Frank H Ogawa Plaza   \n",
       "5              93.0                      4th St at Mission Bay Blvd S   \n",
       "\n",
       "   start_station_latitude  start_station_longitude  end_station_id  \\\n",
       "0               37.789625              -122.400811            13.0   \n",
       "2               37.769305              -122.426826             3.0   \n",
       "3               37.774836              -122.446546            70.0   \n",
       "4               37.804562              -122.271738           222.0   \n",
       "5               37.770407              -122.391198           323.0   \n",
       "\n",
       "                               end_station_name  end_station_latitude  ...  \\\n",
       "0                Commercial St at Montgomery St             37.794231  ...   \n",
       "2  Powell St BART Station (Market St at 4th St)             37.786375  ...   \n",
       "3                        Central Ave at Fell St             37.773311  ...   \n",
       "4                         10th Ave at E 15th St             37.792714  ...   \n",
       "5                            Broadway at Kearny             37.798014  ...   \n",
       "\n",
       "    user_type  member_birth_year member_gender  bike_share_for_all_trip  \\\n",
       "0    Customer             1984.0          Male                       No   \n",
       "2    Customer             1972.0          Male                       No   \n",
       "3  Subscriber             1989.0         Other                       No   \n",
       "4  Subscriber             1974.0          Male                      Yes   \n",
       "5  Subscriber             1959.0          Male                       No   \n",
       "\n",
       "  date_start     time_start   date_end       time_end start_month start_day  \n",
       "0 2019-02-28  17:32:10.1450 2019-03-01  08:01:55.9750    February  Thursday  \n",
       "2 2019-02-28  12:13:13.2180 2019-03-01  05:24:08.1460    February  Thursday  \n",
       "3 2019-02-28  17:54:26.0100 2019-03-01  04:02:36.8420    February  Thursday  \n",
       "4 2019-02-28  23:54:18.5490 2019-03-01  00:20:44.0740    February  Thursday  \n",
       "5 2019-02-28  23:49:58.6320 2019-03-01  00:19:51.7600    February  Thursday  \n",
       "\n",
       "[5 rows x 22 columns]"
      ]
     },
     "execution_count": 13,
     "metadata": {},
     "output_type": "execute_result"
    }
   ],
   "source": [
    "df_filter['start_month'] = df_filter.date_start.dt.month_name()\n",
    "df_filter['start_day'] = df_filter.date_start.dt.day_name()\n",
    "df_filter.head()"
   ]
  },
  {
   "cell_type": "code",
   "execution_count": 76,
   "metadata": {},
   "outputs": [
    {
     "data": {
      "text/plain": [
       "February    174952\n",
       "Name: start_month, dtype: int64"
      ]
     },
     "execution_count": 76,
     "metadata": {},
     "output_type": "execute_result"
    }
   ],
   "source": [
    "df_filter.start_month.value_counts()"
   ]
  },
  {
   "cell_type": "code",
   "execution_count": 77,
   "metadata": {},
   "outputs": [
    {
     "data": {
      "text/plain": [
       "Text(0, 0.5, '')"
      ]
     },
     "execution_count": 77,
     "metadata": {},
     "output_type": "execute_result"
    },
    {
     "data": {
      "image/png": "[encoded data removed]",
      "text/plain": [
       "<Figure size 500x500 with 1 Axes>"
      ]
     },
     "metadata": {},
     "output_type": "display_data"
    }
   ],
   "source": [
    "# Visualization on the month the users rented the most bikes \n",
    "ax=df_filter['start_month'].value_counts().plot(kind='pie',autopct='%1.0f%%',title='Distribution of the months with bike rentage',\n",
    "                                          figsize=(5,5))\n",
    "ax.set_ylabel('')"
   ]
  },
  {
   "cell_type": "markdown",
   "metadata": {},
   "source": [
    "The above pie chart shows that this dataset only contains the data of the bikes that were rented in February"
   ]
  },
  {
   "cell_type": "markdown",
   "metadata": {},
   "source": [
    "#### 4. What day did users rent the most bikes"
   ]
  },
  {
   "cell_type": "code",
   "execution_count": 78,
   "metadata": {},
   "outputs": [
    {
     "data": {
      "text/plain": [
       "Thursday     33712\n",
       "Tuesday      30584\n",
       "Wednesday    28426\n",
       "Friday       27663\n",
       "Monday       25641\n",
       "Sunday       14512\n",
       "Saturday     14414\n",
       "Name: start_day, dtype: int64"
      ]
     },
     "execution_count": 78,
     "metadata": {},
     "output_type": "execute_result"
    }
   ],
   "source": [
    "df_filter.start_day.value_counts()"
   ]
  },
  {
   "cell_type": "code",
   "execution_count": 89,
   "metadata": {},
   "outputs": [
    {
     "data": {
      "text/plain": [
       "(array([0, 1, 2, 3, 4, 5, 6]),\n",
       " [Text(0, 0, 'Thursday'),\n",
       "  Text(1, 0, 'Tuesday'),\n",
       "  Text(2, 0, 'Wednesday'),\n",
       "  Text(3, 0, 'Friday'),\n",
       "  Text(4, 0, 'Monday'),\n",
       "  Text(5, 0, 'Sunday'),\n",
       "  Text(6, 0, 'Saturday')])"
      ]
     },
     "execution_count": 89,
     "metadata": {},
     "output_type": "execute_result"
    },
    {
     "data": {
      "image/png": "[encoded data removed]",
      "text/plain": [
       "<Figure size 500x300 with 1 Axes>"
      ]
     },
     "metadata": {},
     "output_type": "display_data"
    }
   ],
   "source": [
    "# To visualize the distribution across the days of the week\n",
    "# using bar chart to plot the distribution\n",
    "df_filter['start_day'].value_counts().plot(kind='bar',\n",
    "                                           figsize=(5,3),xlabel='Days of the week',\n",
    "                                           ylabel='Number of bikes rented', \n",
    "                                           title='Number of bikes rented per Day')\n",
    "plt.xticks(rotation=45, ha='right')"
   ]
  },
  {
   "cell_type": "markdown",
   "metadata": {},
   "source": [
    "The above graph shows that majority of the Bikes were rented on Thursday while the least was rented on Saturday"
   ]
  },
  {
   "cell_type": "markdown",
   "metadata": {},
   "source": [
    "#### 5. What month did users return the most bikes"
   ]
  },
  {
   "cell_type": "code",
   "execution_count": 14,
   "metadata": {},
   "outputs": [
    {
     "data": {
      "text/html": [
       "<div>\n",
       "<style scoped>\n",
       "    .dataframe tbody tr th:only-of-type {\n",
       "        vertical-align: middle;\n",
       "    }\n",
       "\n",
       "    .dataframe tbody tr th {\n",
       "        vertical-align: top;\n",
       "    }\n",
       "\n",
       "    .dataframe thead th {\n",
       "        text-align: right;\n",
       "    }\n",
       "</style>\n",
       "<table border=\"1\" class=\"dataframe\">\n",
       "  <thead>\n",
       "    <tr style=\"text-align: right;\">\n",
       "      <th></th>\n",
       "      <th>duration_sec</th>\n",
       "      <th>start_time</th>\n",
       "      <th>end_time</th>\n",
       "      <th>start_station_id</th>\n",
       "      <th>start_station_name</th>\n",
       "      <th>start_station_latitude</th>\n",
       "      <th>start_station_longitude</th>\n",
       "      <th>end_station_id</th>\n",
       "      <th>end_station_name</th>\n",
       "      <th>end_station_latitude</th>\n",
       "      <th>...</th>\n",
       "      <th>member_gender</th>\n",
       "      <th>bike_share_for_all_trip</th>\n",
       "      <th>date_start</th>\n",
       "      <th>time_start</th>\n",
       "      <th>date_end</th>\n",
       "      <th>time_end</th>\n",
       "      <th>start_month</th>\n",
       "      <th>start_day</th>\n",
       "      <th>end_month</th>\n",
       "      <th>end_day</th>\n",
       "    </tr>\n",
       "  </thead>\n",
       "  <tbody>\n",
       "    <tr>\n",
       "      <th>0</th>\n",
       "      <td>52185</td>\n",
       "      <td>2019-02-28 17:32:10.1450</td>\n",
       "      <td>2019-03-01 08:01:55.9750</td>\n",
       "      <td>21.0</td>\n",
       "      <td>Montgomery St BART Station (Market St at 2nd St)</td>\n",
       "      <td>37.789625</td>\n",
       "      <td>-122.400811</td>\n",
       "      <td>13.0</td>\n",
       "      <td>Commercial St at Montgomery St</td>\n",
       "      <td>37.794231</td>\n",
       "      <td>...</td>\n",
       "      <td>Male</td>\n",
       "      <td>No</td>\n",
       "      <td>2019-02-28</td>\n",
       "      <td>17:32:10.1450</td>\n",
       "      <td>2019-03-01</td>\n",
       "      <td>08:01:55.9750</td>\n",
       "      <td>February</td>\n",
       "      <td>Thursday</td>\n",
       "      <td>March</td>\n",
       "      <td>Friday</td>\n",
       "    </tr>\n",
       "    <tr>\n",
       "      <th>2</th>\n",
       "      <td>61854</td>\n",
       "      <td>2019-02-28 12:13:13.2180</td>\n",
       "      <td>2019-03-01 05:24:08.1460</td>\n",
       "      <td>86.0</td>\n",
       "      <td>Market St at Dolores St</td>\n",
       "      <td>37.769305</td>\n",
       "      <td>-122.426826</td>\n",
       "      <td>3.0</td>\n",
       "      <td>Powell St BART Station (Market St at 4th St)</td>\n",
       "      <td>37.786375</td>\n",
       "      <td>...</td>\n",
       "      <td>Male</td>\n",
       "      <td>No</td>\n",
       "      <td>2019-02-28</td>\n",
       "      <td>12:13:13.2180</td>\n",
       "      <td>2019-03-01</td>\n",
       "      <td>05:24:08.1460</td>\n",
       "      <td>February</td>\n",
       "      <td>Thursday</td>\n",
       "      <td>March</td>\n",
       "      <td>Friday</td>\n",
       "    </tr>\n",
       "    <tr>\n",
       "      <th>3</th>\n",
       "      <td>36490</td>\n",
       "      <td>2019-02-28 17:54:26.0100</td>\n",
       "      <td>2019-03-01 04:02:36.8420</td>\n",
       "      <td>375.0</td>\n",
       "      <td>Grove St at Masonic Ave</td>\n",
       "      <td>37.774836</td>\n",
       "      <td>-122.446546</td>\n",
       "      <td>70.0</td>\n",
       "      <td>Central Ave at Fell St</td>\n",
       "      <td>37.773311</td>\n",
       "      <td>...</td>\n",
       "      <td>Other</td>\n",
       "      <td>No</td>\n",
       "      <td>2019-02-28</td>\n",
       "      <td>17:54:26.0100</td>\n",
       "      <td>2019-03-01</td>\n",
       "      <td>04:02:36.8420</td>\n",
       "      <td>February</td>\n",
       "      <td>Thursday</td>\n",
       "      <td>March</td>\n",
       "      <td>Friday</td>\n",
       "    </tr>\n",
       "    <tr>\n",
       "      <th>4</th>\n",
       "      <td>1585</td>\n",
       "      <td>2019-02-28 23:54:18.5490</td>\n",
       "      <td>2019-03-01 00:20:44.0740</td>\n",
       "      <td>7.0</td>\n",
       "      <td>Frank H Ogawa Plaza</td>\n",
       "      <td>37.804562</td>\n",
       "      <td>-122.271738</td>\n",
       "      <td>222.0</td>\n",
       "      <td>10th Ave at E 15th St</td>\n",
       "      <td>37.792714</td>\n",
       "      <td>...</td>\n",
       "      <td>Male</td>\n",
       "      <td>Yes</td>\n",
       "      <td>2019-02-28</td>\n",
       "      <td>23:54:18.5490</td>\n",
       "      <td>2019-03-01</td>\n",
       "      <td>00:20:44.0740</td>\n",
       "      <td>February</td>\n",
       "      <td>Thursday</td>\n",
       "      <td>March</td>\n",
       "      <td>Friday</td>\n",
       "    </tr>\n",
       "    <tr>\n",
       "      <th>5</th>\n",
       "      <td>1793</td>\n",
       "      <td>2019-02-28 23:49:58.6320</td>\n",
       "      <td>2019-03-01 00:19:51.7600</td>\n",
       "      <td>93.0</td>\n",
       "      <td>4th St at Mission Bay Blvd S</td>\n",
       "      <td>37.770407</td>\n",
       "      <td>-122.391198</td>\n",
       "      <td>323.0</td>\n",
       "      <td>Broadway at Kearny</td>\n",
       "      <td>37.798014</td>\n",
       "      <td>...</td>\n",
       "      <td>Male</td>\n",
       "      <td>No</td>\n",
       "      <td>2019-02-28</td>\n",
       "      <td>23:49:58.6320</td>\n",
       "      <td>2019-03-01</td>\n",
       "      <td>00:19:51.7600</td>\n",
       "      <td>February</td>\n",
       "      <td>Thursday</td>\n",
       "      <td>March</td>\n",
       "      <td>Friday</td>\n",
       "    </tr>\n",
       "  </tbody>\n",
       "</table>\n",
       "<p>5 rows × 24 columns</p>\n",
       "</div>"
      ],
      "text/plain": [
       "   duration_sec                start_time                  end_time  \\\n",
       "0         52185  2019-02-28 17:32:10.1450  2019-03-01 08:01:55.9750   \n",
       "2         61854  2019-02-28 12:13:13.2180  2019-03-01 05:24:08.1460   \n",
       "3         36490  2019-02-28 17:54:26.0100  2019-03-01 04:02:36.8420   \n",
       "4          1585  2019-02-28 23:54:18.5490  2019-03-01 00:20:44.0740   \n",
       "5          1793  2019-02-28 23:49:58.6320  2019-03-01 00:19:51.7600   \n",
       "\n",
       "   start_station_id                                start_station_name  \\\n",
       "0              21.0  Montgomery St BART Station (Market St at 2nd St)   \n",
       "2              86.0                           Market St at Dolores St   \n",
       "3             375.0                           Grove St at Masonic Ave   \n",
       "4               7.0                               Frank H Ogawa Plaza   \n",
       "5              93.0                      4th St at Mission Bay Blvd S   \n",
       "\n",
       "   start_station_latitude  start_station_longitude  end_station_id  \\\n",
       "0               37.789625              -122.400811            13.0   \n",
       "2               37.769305              -122.426826             3.0   \n",
       "3               37.774836              -122.446546            70.0   \n",
       "4               37.804562              -122.271738           222.0   \n",
       "5               37.770407              -122.391198           323.0   \n",
       "\n",
       "                               end_station_name  end_station_latitude  ...  \\\n",
       "0                Commercial St at Montgomery St             37.794231  ...   \n",
       "2  Powell St BART Station (Market St at 4th St)             37.786375  ...   \n",
       "3                        Central Ave at Fell St             37.773311  ...   \n",
       "4                         10th Ave at E 15th St             37.792714  ...   \n",
       "5                            Broadway at Kearny             37.798014  ...   \n",
       "\n",
       "   member_gender  bike_share_for_all_trip date_start     time_start  \\\n",
       "0           Male                       No 2019-02-28  17:32:10.1450   \n",
       "2           Male                       No 2019-02-28  12:13:13.2180   \n",
       "3          Other                       No 2019-02-28  17:54:26.0100   \n",
       "4           Male                      Yes 2019-02-28  23:54:18.5490   \n",
       "5           Male                       No 2019-02-28  23:49:58.6320   \n",
       "\n",
       "    date_end       time_end start_month start_day end_month end_day  \n",
       "0 2019-03-01  08:01:55.9750    February  Thursday     March  Friday  \n",
       "2 2019-03-01  05:24:08.1460    February  Thursday     March  Friday  \n",
       "3 2019-03-01  04:02:36.8420    February  Thursday     March  Friday  \n",
       "4 2019-03-01  00:20:44.0740    February  Thursday     March  Friday  \n",
       "5 2019-03-01  00:19:51.7600    February  Thursday     March  Friday  \n",
       "\n",
       "[5 rows x 24 columns]"
      ]
     },
     "execution_count": 14,
     "metadata": {},
     "output_type": "execute_result"
    }
   ],
   "source": [
    "df_filter['end_month'] = df_filter.date_end.dt.month_name()\n",
    "df_filter['end_day'] = df_filter.date_end.dt.day_name()\n",
    "df_filter.head()"
   ]
  },
  {
   "cell_type": "code",
   "execution_count": 109,
   "metadata": {},
   "outputs": [
    {
     "data": {
      "text/plain": [
       "February    174938\n",
       "March           14\n",
       "Name: end_month, dtype: int64"
      ]
     },
     "execution_count": 109,
     "metadata": {},
     "output_type": "execute_result"
    }
   ],
   "source": [
    "df_filter.end_month.value_counts()"
   ]
  },
  {
   "cell_type": "code",
   "execution_count": 110,
   "metadata": {},
   "outputs": [
    {
     "data": {
      "text/plain": [
       "Text(0, 0.5, '')"
      ]
     },
     "execution_count": 110,
     "metadata": {},
     "output_type": "execute_result"
    },
    {
     "data": {
      "image/png": "[encoded data removed]",
      "text/plain": [
       "<Figure size 500x500 with 1 Axes>"
      ]
     },
     "metadata": {},
     "output_type": "display_data"
    }
   ],
   "source": [
    "# To visualize the return months\n",
    "ax=df_filter['end_month'].value_counts().plot(kind='pie',autopct='%0.3f%%',title='Distribution of the months with bike returns',\n",
    "                                          figsize=(5,5))\n",
    "ax.set_ylabel('')"
   ]
  },
  {
   "cell_type": "markdown",
   "metadata": {},
   "source": [
    "The above chary shows that majority of the bikes were returned in the month of February while very few were returned in the month of March"
   ]
  },
  {
   "cell_type": "markdown",
   "metadata": {},
   "source": [
    "#### 6. What day did users return the most bikes"
   ]
  },
  {
   "cell_type": "code",
   "execution_count": 95,
   "metadata": {},
   "outputs": [
    {
     "data": {
      "text/plain": [
       "Thursday     33707\n",
       "Tuesday      30591\n",
       "Wednesday    28417\n",
       "Friday       27655\n",
       "Monday       25641\n",
       "Sunday       14519\n",
       "Saturday     14422\n",
       "Name: end_day, dtype: int64"
      ]
     },
     "execution_count": 95,
     "metadata": {},
     "output_type": "execute_result"
    }
   ],
   "source": [
    "df_filter.end_day.value_counts()"
   ]
  },
  {
   "cell_type": "code",
   "execution_count": 96,
   "metadata": {},
   "outputs": [
    {
     "data": {
      "text/plain": [
       "(array([0, 1, 2, 3, 4, 5, 6]),\n",
       " [Text(0, 0, 'Thursday'),\n",
       "  Text(1, 0, 'Tuesday'),\n",
       "  Text(2, 0, 'Wednesday'),\n",
       "  Text(3, 0, 'Friday'),\n",
       "  Text(4, 0, 'Monday'),\n",
       "  Text(5, 0, 'Sunday'),\n",
       "  Text(6, 0, 'Saturday')])"
      ]
     },
     "execution_count": 96,
     "metadata": {},
     "output_type": "execute_result"
    },
    {
     "data": {
      "image/png": "[encoded data removed]",
      "text/plain": [
       "<Figure size 500x300 with 1 Axes>"
      ]
     },
     "metadata": {},
     "output_type": "display_data"
    }
   ],
   "source": [
    "# To visualize the distribution across the days of the week\n",
    "# using bar chart to plot the distribution\n",
    "df_filter['end_day'].value_counts().plot(kind='bar',\n",
    "                                           figsize=(5,3),xlabel='Days of the week',\n",
    "                                           ylabel='Number of bikes returned', \n",
    "                                           title='Number of bikes returned per Day')\n",
    "plt.xticks(rotation=45, ha='right')"
   ]
  },
  {
   "cell_type": "markdown",
   "metadata": {},
   "source": [
    "The above graph shows that majority of the Bikes were returned on Thursday while the least was returned on Saturday"
   ]
  },
  {
   "cell_type": "markdown",
   "metadata": {},
   "source": [
    "#### 7. What is the distribution of the ages of the renters"
   ]
  },
  {
   "cell_type": "code",
   "execution_count": 30,
   "metadata": {
    "scrolled": true
   },
   "outputs": [
    {
     "data": {
      "text/html": [
       "<div>\n",
       "<style scoped>\n",
       "    .dataframe tbody tr th:only-of-type {\n",
       "        vertical-align: middle;\n",
       "    }\n",
       "\n",
       "    .dataframe tbody tr th {\n",
       "        vertical-align: top;\n",
       "    }\n",
       "\n",
       "    .dataframe thead th {\n",
       "        text-align: right;\n",
       "    }\n",
       "</style>\n",
       "<table border=\"1\" class=\"dataframe\">\n",
       "  <thead>\n",
       "    <tr style=\"text-align: right;\">\n",
       "      <th></th>\n",
       "      <th>duration_sec</th>\n",
       "      <th>start_time</th>\n",
       "      <th>end_time</th>\n",
       "      <th>start_station_id</th>\n",
       "      <th>start_station_name</th>\n",
       "      <th>start_station_latitude</th>\n",
       "      <th>start_station_longitude</th>\n",
       "      <th>end_station_id</th>\n",
       "      <th>end_station_name</th>\n",
       "      <th>end_station_latitude</th>\n",
       "      <th>...</th>\n",
       "      <th>date_start</th>\n",
       "      <th>time_start</th>\n",
       "      <th>date_end</th>\n",
       "      <th>time_end</th>\n",
       "      <th>start_month</th>\n",
       "      <th>start_day</th>\n",
       "      <th>end_month</th>\n",
       "      <th>end_day</th>\n",
       "      <th>member_age</th>\n",
       "      <th>user_age_range</th>\n",
       "    </tr>\n",
       "  </thead>\n",
       "  <tbody>\n",
       "    <tr>\n",
       "      <th>0</th>\n",
       "      <td>52185</td>\n",
       "      <td>2019-02-28 17:32:10.1450</td>\n",
       "      <td>2019-03-01 08:01:55.9750</td>\n",
       "      <td>21.0</td>\n",
       "      <td>Montgomery St BART Station (Market St at 2nd St)</td>\n",
       "      <td>37.789625</td>\n",
       "      <td>-122.400811</td>\n",
       "      <td>13.0</td>\n",
       "      <td>Commercial St at Montgomery St</td>\n",
       "      <td>37.794231</td>\n",
       "      <td>...</td>\n",
       "      <td>2019-02-28</td>\n",
       "      <td>17:32:10.1450</td>\n",
       "      <td>2019-03-01</td>\n",
       "      <td>08:01:55.9750</td>\n",
       "      <td>February</td>\n",
       "      <td>Thursday</td>\n",
       "      <td>March</td>\n",
       "      <td>Friday</td>\n",
       "      <td>35</td>\n",
       "      <td>29-38</td>\n",
       "    </tr>\n",
       "    <tr>\n",
       "      <th>2</th>\n",
       "      <td>61854</td>\n",
       "      <td>2019-02-28 12:13:13.2180</td>\n",
       "      <td>2019-03-01 05:24:08.1460</td>\n",
       "      <td>86.0</td>\n",
       "      <td>Market St at Dolores St</td>\n",
       "      <td>37.769305</td>\n",
       "      <td>-122.426826</td>\n",
       "      <td>3.0</td>\n",
       "      <td>Powell St BART Station (Market St at 4th St)</td>\n",
       "      <td>37.786375</td>\n",
       "      <td>...</td>\n",
       "      <td>2019-02-28</td>\n",
       "      <td>12:13:13.2180</td>\n",
       "      <td>2019-03-01</td>\n",
       "      <td>05:24:08.1460</td>\n",
       "      <td>February</td>\n",
       "      <td>Thursday</td>\n",
       "      <td>March</td>\n",
       "      <td>Friday</td>\n",
       "      <td>47</td>\n",
       "      <td>39-48</td>\n",
       "    </tr>\n",
       "    <tr>\n",
       "      <th>3</th>\n",
       "      <td>36490</td>\n",
       "      <td>2019-02-28 17:54:26.0100</td>\n",
       "      <td>2019-03-01 04:02:36.8420</td>\n",
       "      <td>375.0</td>\n",
       "      <td>Grove St at Masonic Ave</td>\n",
       "      <td>37.774836</td>\n",
       "      <td>-122.446546</td>\n",
       "      <td>70.0</td>\n",
       "      <td>Central Ave at Fell St</td>\n",
       "      <td>37.773311</td>\n",
       "      <td>...</td>\n",
       "      <td>2019-02-28</td>\n",
       "      <td>17:54:26.0100</td>\n",
       "      <td>2019-03-01</td>\n",
       "      <td>04:02:36.8420</td>\n",
       "      <td>February</td>\n",
       "      <td>Thursday</td>\n",
       "      <td>March</td>\n",
       "      <td>Friday</td>\n",
       "      <td>30</td>\n",
       "      <td>29-38</td>\n",
       "    </tr>\n",
       "    <tr>\n",
       "      <th>4</th>\n",
       "      <td>1585</td>\n",
       "      <td>2019-02-28 23:54:18.5490</td>\n",
       "      <td>2019-03-01 00:20:44.0740</td>\n",
       "      <td>7.0</td>\n",
       "      <td>Frank H Ogawa Plaza</td>\n",
       "      <td>37.804562</td>\n",
       "      <td>-122.271738</td>\n",
       "      <td>222.0</td>\n",
       "      <td>10th Ave at E 15th St</td>\n",
       "      <td>37.792714</td>\n",
       "      <td>...</td>\n",
       "      <td>2019-02-28</td>\n",
       "      <td>23:54:18.5490</td>\n",
       "      <td>2019-03-01</td>\n",
       "      <td>00:20:44.0740</td>\n",
       "      <td>February</td>\n",
       "      <td>Thursday</td>\n",
       "      <td>March</td>\n",
       "      <td>Friday</td>\n",
       "      <td>45</td>\n",
       "      <td>39-48</td>\n",
       "    </tr>\n",
       "    <tr>\n",
       "      <th>5</th>\n",
       "      <td>1793</td>\n",
       "      <td>2019-02-28 23:49:58.6320</td>\n",
       "      <td>2019-03-01 00:19:51.7600</td>\n",
       "      <td>93.0</td>\n",
       "      <td>4th St at Mission Bay Blvd S</td>\n",
       "      <td>37.770407</td>\n",
       "      <td>-122.391198</td>\n",
       "      <td>323.0</td>\n",
       "      <td>Broadway at Kearny</td>\n",
       "      <td>37.798014</td>\n",
       "      <td>...</td>\n",
       "      <td>2019-02-28</td>\n",
       "      <td>23:49:58.6320</td>\n",
       "      <td>2019-03-01</td>\n",
       "      <td>00:19:51.7600</td>\n",
       "      <td>February</td>\n",
       "      <td>Thursday</td>\n",
       "      <td>March</td>\n",
       "      <td>Friday</td>\n",
       "      <td>60</td>\n",
       "      <td>49-58</td>\n",
       "    </tr>\n",
       "  </tbody>\n",
       "</table>\n",
       "<p>5 rows × 26 columns</p>\n",
       "</div>"
      ],
      "text/plain": [
       "   duration_sec                start_time                  end_time  \\\n",
       "0         52185  2019-02-28 17:32:10.1450  2019-03-01 08:01:55.9750   \n",
       "2         61854  2019-02-28 12:13:13.2180  2019-03-01 05:24:08.1460   \n",
       "3         36490  2019-02-28 17:54:26.0100  2019-03-01 04:02:36.8420   \n",
       "4          1585  2019-02-28 23:54:18.5490  2019-03-01 00:20:44.0740   \n",
       "5          1793  2019-02-28 23:49:58.6320  2019-03-01 00:19:51.7600   \n",
       "\n",
       "   start_station_id                                start_station_name  \\\n",
       "0              21.0  Montgomery St BART Station (Market St at 2nd St)   \n",
       "2              86.0                           Market St at Dolores St   \n",
       "3             375.0                           Grove St at Masonic Ave   \n",
       "4               7.0                               Frank H Ogawa Plaza   \n",
       "5              93.0                      4th St at Mission Bay Blvd S   \n",
       "\n",
       "   start_station_latitude  start_station_longitude  end_station_id  \\\n",
       "0               37.789625              -122.400811            13.0   \n",
       "2               37.769305              -122.426826             3.0   \n",
       "3               37.774836              -122.446546            70.0   \n",
       "4               37.804562              -122.271738           222.0   \n",
       "5               37.770407              -122.391198           323.0   \n",
       "\n",
       "                               end_station_name  end_station_latitude  ...  \\\n",
       "0                Commercial St at Montgomery St             37.794231  ...   \n",
       "2  Powell St BART Station (Market St at 4th St)             37.786375  ...   \n",
       "3                        Central Ave at Fell St             37.773311  ...   \n",
       "4                         10th Ave at E 15th St             37.792714  ...   \n",
       "5                            Broadway at Kearny             37.798014  ...   \n",
       "\n",
       "   date_start     time_start   date_end       time_end start_month start_day  \\\n",
       "0  2019-02-28  17:32:10.1450 2019-03-01  08:01:55.9750    February  Thursday   \n",
       "2  2019-02-28  12:13:13.2180 2019-03-01  05:24:08.1460    February  Thursday   \n",
       "3  2019-02-28  17:54:26.0100 2019-03-01  04:02:36.8420    February  Thursday   \n",
       "4  2019-02-28  23:54:18.5490 2019-03-01  00:20:44.0740    February  Thursday   \n",
       "5  2019-02-28  23:49:58.6320 2019-03-01  00:19:51.7600    February  Thursday   \n",
       "\n",
       "  end_month end_day member_age user_age_range  \n",
       "0     March  Friday         35          29-38  \n",
       "2     March  Friday         47          39-48  \n",
       "3     March  Friday         30          29-38  \n",
       "4     March  Friday         45          39-48  \n",
       "5     March  Friday         60          49-58  \n",
       "\n",
       "[5 rows x 26 columns]"
      ]
     },
     "execution_count": 30,
     "metadata": {},
     "output_type": "execute_result"
    }
   ],
   "source": [
    "# Convert the member_birth_year to int and extract the age from the difference between the current year and the member year\n",
    "df_filter['member_birth_year'] = df_filter['member_birth_year'].astype('int')\n",
    "df_filter['member_age'] = 2019-df_filter['member_birth_year']\n",
    "df_filter.head()"
   ]
  },
  {
   "cell_type": "code",
   "execution_count": null,
   "metadata": {
    "scrolled": true
   },
   "outputs": [],
   "source": [
    "df_filter.member_age.sort_values()"
   ]
  },
  {
   "cell_type": "code",
   "execution_count": 31,
   "metadata": {
    "scrolled": true
   },
   "outputs": [
    {
     "data": {
      "text/plain": [
       "29-38      72775\n",
       "18-28      65300\n",
       "39-48      23951\n",
       "49-58      10720\n",
       "59-68       1836\n",
       "69-78        183\n",
       "79-88        112\n",
       "108-119       53\n",
       "99-108        18\n",
       "89-98          3\n",
       "others         1\n",
       "Name: user_age_range, dtype: int64"
      ]
     },
     "execution_count": 31,
     "metadata": {},
     "output_type": "execute_result"
    }
   ],
   "source": [
    "#creating a grouping for the ages\n",
    "labels = ['18-28','29-38','39-48','49-58','59-68','69-78','79-88','89-98','99-108', '108-119','others']\n",
    "df_filter['user_age_range'] = pd.cut(df_filter['member_age'], bins=11, labels=labels, right=False)\n",
    "df_filter.user_age_range.value_counts()\n"
   ]
  },
  {
   "cell_type": "code",
   "execution_count": 32,
   "metadata": {},
   "outputs": [
    {
     "data": {
      "text/plain": [
       "<AxesSubplot:xlabel='count', ylabel='user_age_range'>"
      ]
     },
     "execution_count": 32,
     "metadata": {},
     "output_type": "execute_result"
    },
    {
     "data": {
      "image/png": "[encoded data removed]",
      "text/plain": [
       "<Figure size 640x480 with 1 Axes>"
      ]
     },
     "metadata": {},
     "output_type": "display_data"
    }
   ],
   "source": [
    "# To visualize the distribution of the user age of the fordgo bikes\n",
    "\n",
    "sb.countplot(y=df_filter[\"user_age_range\"])"
   ]
  },
  {
   "cell_type": "markdown",
   "metadata": {},
   "source": [
    "The above graph shows the distribution across the different age groups. It shows that the frequent bike renters are between the ages of 29-38 years"
   ]
  },
  {
   "cell_type": "markdown",
   "metadata": {},
   "source": [
    "### Discuss the distribution(s) of your variable(s) of interest. Were there any unusual points? Did you need to perform any transformations?\n",
    "\n",
    "> The startime of the bikes were all in February and all were from Sunday to Saturday. There are 2 types of bike users namely Subscribers and Customers. There are 3 genders stated for the member gender. The end time of the bike rentage were in february and March. I needed too perform some splitting and categorizations. \n",
    "\n",
    "### Of the features you investigated, were there any unusual distributions? Did you perform any operations on the data to tidy, adjust, or change the form of the data? If so, why did you do this?\n",
    "\n",
    "> I expanded the start time to start month and start day for categorization purposes\n",
    "> I expanded the end time to end month and end day for categorization purposes\n",
    "> I expanded the member birth year to member age and user age range for categorization purposes"
   ]
  },
  {
   "cell_type": "markdown",
   "metadata": {},
   "source": [
    "## Bivariate Exploration\n",
    "\n",
    "> In this section, investigate relationships between pairs of variables in your\n",
    "data. Make sure the variables that you cover here have been introduced in some\n",
    "fashion in the previous section (univariate exploration)."
   ]
  },
  {
   "cell_type": "markdown",
   "metadata": {},
   "source": [
    "#### 8. What is the distribution of the genders across the age groups"
   ]
  },
  {
   "cell_type": "code",
   "execution_count": 35,
   "metadata": {},
   "outputs": [
    {
     "data": {
      "text/plain": [
       "<AxesSubplot:xlabel='count', ylabel='user_age_range'>"
      ]
     },
     "execution_count": 35,
     "metadata": {},
     "output_type": "execute_result"
    },
    {
     "data": {
      "image/png": "[encoded data removed]",
      "text/plain": [
       "<Figure size 640x480 with 1 Axes>"
      ]
     },
     "metadata": {},
     "output_type": "display_data"
    }
   ],
   "source": [
    "sb.countplot(data=df_filter, y= \"user_age_range\", hue=\"member_gender\")"
   ]
  },
  {
   "cell_type": "markdown",
   "metadata": {},
   "source": [
    "The visualization above shows that most of the users across all age groups are male. The percentage of the female users is higher than the users who are others across all the age groups"
   ]
  },
  {
   "cell_type": "markdown",
   "metadata": {},
   "source": [
    "#### 9: What is the relationship between the user gender and the day the bike ride starts?"
   ]
  },
  {
   "cell_type": "code",
   "execution_count": 44,
   "metadata": {},
   "outputs": [
    {
     "data": {
      "text/plain": [
       "<AxesSubplot:xlabel='start_day', ylabel='count'>"
      ]
     },
     "execution_count": 44,
     "metadata": {},
     "output_type": "execute_result"
    },
    {
     "data": {
      "image/png": "[encoded data removed]",
      "text/plain": [
       "<Figure size 640x480 with 1 Axes>"
      ]
     },
     "metadata": {},
     "output_type": "display_data"
    }
   ],
   "source": [
    "sb.countplot(data=df_filter, x= \"start_day\", hue=\"member_gender\")"
   ]
  },
  {
   "cell_type": "markdown",
   "metadata": {},
   "source": [
    "The above graph shows that Majority of both male and female go biking on Thursdays and the least go biking on Saturdays"
   ]
  },
  {
   "cell_type": "markdown",
   "metadata": {},
   "source": [
    "#### 10. What is the average seconds spent biking across the different age groups"
   ]
  },
  {
   "cell_type": "code",
   "execution_count": 61,
   "metadata": {},
   "outputs": [
    {
     "data": {
      "text/html": [
       "<div>\n",
       "<style scoped>\n",
       "    .dataframe tbody tr th:only-of-type {\n",
       "        vertical-align: middle;\n",
       "    }\n",
       "\n",
       "    .dataframe tbody tr th {\n",
       "        vertical-align: top;\n",
       "    }\n",
       "\n",
       "    .dataframe thead th {\n",
       "        text-align: right;\n",
       "    }\n",
       "</style>\n",
       "<table border=\"1\" class=\"dataframe\">\n",
       "  <thead>\n",
       "    <tr style=\"text-align: right;\">\n",
       "      <th></th>\n",
       "      <th>duration_sec</th>\n",
       "      <th>start_time</th>\n",
       "      <th>end_time</th>\n",
       "      <th>start_station_id</th>\n",
       "      <th>start_station_name</th>\n",
       "      <th>start_station_latitude</th>\n",
       "      <th>start_station_longitude</th>\n",
       "      <th>end_station_id</th>\n",
       "      <th>end_station_name</th>\n",
       "      <th>end_station_latitude</th>\n",
       "      <th>...</th>\n",
       "      <th>time_start</th>\n",
       "      <th>date_end</th>\n",
       "      <th>time_end</th>\n",
       "      <th>start_month</th>\n",
       "      <th>start_day</th>\n",
       "      <th>end_month</th>\n",
       "      <th>end_day</th>\n",
       "      <th>member_age</th>\n",
       "      <th>user_age_range</th>\n",
       "      <th>duration_hour</th>\n",
       "    </tr>\n",
       "  </thead>\n",
       "  <tbody>\n",
       "    <tr>\n",
       "      <th>0</th>\n",
       "      <td>52185</td>\n",
       "      <td>2019-02-28 17:32:10.1450</td>\n",
       "      <td>2019-03-01 08:01:55.9750</td>\n",
       "      <td>21.0</td>\n",
       "      <td>Montgomery St BART Station (Market St at 2nd St)</td>\n",
       "      <td>37.789625</td>\n",
       "      <td>-122.400811</td>\n",
       "      <td>13.0</td>\n",
       "      <td>Commercial St at Montgomery St</td>\n",
       "      <td>37.794231</td>\n",
       "      <td>...</td>\n",
       "      <td>17:32:10.1450</td>\n",
       "      <td>2019-03-01</td>\n",
       "      <td>08:01:55.9750</td>\n",
       "      <td>February</td>\n",
       "      <td>Thursday</td>\n",
       "      <td>March</td>\n",
       "      <td>Friday</td>\n",
       "      <td>35</td>\n",
       "      <td>29-38</td>\n",
       "      <td>15.0</td>\n",
       "    </tr>\n",
       "    <tr>\n",
       "      <th>2</th>\n",
       "      <td>61854</td>\n",
       "      <td>2019-02-28 12:13:13.2180</td>\n",
       "      <td>2019-03-01 05:24:08.1460</td>\n",
       "      <td>86.0</td>\n",
       "      <td>Market St at Dolores St</td>\n",
       "      <td>37.769305</td>\n",
       "      <td>-122.426826</td>\n",
       "      <td>3.0</td>\n",
       "      <td>Powell St BART Station (Market St at 4th St)</td>\n",
       "      <td>37.786375</td>\n",
       "      <td>...</td>\n",
       "      <td>12:13:13.2180</td>\n",
       "      <td>2019-03-01</td>\n",
       "      <td>05:24:08.1460</td>\n",
       "      <td>February</td>\n",
       "      <td>Thursday</td>\n",
       "      <td>March</td>\n",
       "      <td>Friday</td>\n",
       "      <td>47</td>\n",
       "      <td>39-48</td>\n",
       "      <td>18.0</td>\n",
       "    </tr>\n",
       "    <tr>\n",
       "      <th>3</th>\n",
       "      <td>36490</td>\n",
       "      <td>2019-02-28 17:54:26.0100</td>\n",
       "      <td>2019-03-01 04:02:36.8420</td>\n",
       "      <td>375.0</td>\n",
       "      <td>Grove St at Masonic Ave</td>\n",
       "      <td>37.774836</td>\n",
       "      <td>-122.446546</td>\n",
       "      <td>70.0</td>\n",
       "      <td>Central Ave at Fell St</td>\n",
       "      <td>37.773311</td>\n",
       "      <td>...</td>\n",
       "      <td>17:54:26.0100</td>\n",
       "      <td>2019-03-01</td>\n",
       "      <td>04:02:36.8420</td>\n",
       "      <td>February</td>\n",
       "      <td>Thursday</td>\n",
       "      <td>March</td>\n",
       "      <td>Friday</td>\n",
       "      <td>30</td>\n",
       "      <td>29-38</td>\n",
       "      <td>11.0</td>\n",
       "    </tr>\n",
       "    <tr>\n",
       "      <th>4</th>\n",
       "      <td>1585</td>\n",
       "      <td>2019-02-28 23:54:18.5490</td>\n",
       "      <td>2019-03-01 00:20:44.0740</td>\n",
       "      <td>7.0</td>\n",
       "      <td>Frank H Ogawa Plaza</td>\n",
       "      <td>37.804562</td>\n",
       "      <td>-122.271738</td>\n",
       "      <td>222.0</td>\n",
       "      <td>10th Ave at E 15th St</td>\n",
       "      <td>37.792714</td>\n",
       "      <td>...</td>\n",
       "      <td>23:54:18.5490</td>\n",
       "      <td>2019-03-01</td>\n",
       "      <td>00:20:44.0740</td>\n",
       "      <td>February</td>\n",
       "      <td>Thursday</td>\n",
       "      <td>March</td>\n",
       "      <td>Friday</td>\n",
       "      <td>45</td>\n",
       "      <td>39-48</td>\n",
       "      <td>1.0</td>\n",
       "    </tr>\n",
       "    <tr>\n",
       "      <th>5</th>\n",
       "      <td>1793</td>\n",
       "      <td>2019-02-28 23:49:58.6320</td>\n",
       "      <td>2019-03-01 00:19:51.7600</td>\n",
       "      <td>93.0</td>\n",
       "      <td>4th St at Mission Bay Blvd S</td>\n",
       "      <td>37.770407</td>\n",
       "      <td>-122.391198</td>\n",
       "      <td>323.0</td>\n",
       "      <td>Broadway at Kearny</td>\n",
       "      <td>37.798014</td>\n",
       "      <td>...</td>\n",
       "      <td>23:49:58.6320</td>\n",
       "      <td>2019-03-01</td>\n",
       "      <td>00:19:51.7600</td>\n",
       "      <td>February</td>\n",
       "      <td>Thursday</td>\n",
       "      <td>March</td>\n",
       "      <td>Friday</td>\n",
       "      <td>60</td>\n",
       "      <td>49-58</td>\n",
       "      <td>1.0</td>\n",
       "    </tr>\n",
       "  </tbody>\n",
       "</table>\n",
       "<p>5 rows × 27 columns</p>\n",
       "</div>"
      ],
      "text/plain": [
       "   duration_sec                start_time                  end_time  \\\n",
       "0         52185  2019-02-28 17:32:10.1450  2019-03-01 08:01:55.9750   \n",
       "2         61854  2019-02-28 12:13:13.2180  2019-03-01 05:24:08.1460   \n",
       "3         36490  2019-02-28 17:54:26.0100  2019-03-01 04:02:36.8420   \n",
       "4          1585  2019-02-28 23:54:18.5490  2019-03-01 00:20:44.0740   \n",
       "5          1793  2019-02-28 23:49:58.6320  2019-03-01 00:19:51.7600   \n",
       "\n",
       "   start_station_id                                start_station_name  \\\n",
       "0              21.0  Montgomery St BART Station (Market St at 2nd St)   \n",
       "2              86.0                           Market St at Dolores St   \n",
       "3             375.0                           Grove St at Masonic Ave   \n",
       "4               7.0                               Frank H Ogawa Plaza   \n",
       "5              93.0                      4th St at Mission Bay Blvd S   \n",
       "\n",
       "   start_station_latitude  start_station_longitude  end_station_id  \\\n",
       "0               37.789625              -122.400811            13.0   \n",
       "2               37.769305              -122.426826             3.0   \n",
       "3               37.774836              -122.446546            70.0   \n",
       "4               37.804562              -122.271738           222.0   \n",
       "5               37.770407              -122.391198           323.0   \n",
       "\n",
       "                               end_station_name  end_station_latitude  ...  \\\n",
       "0                Commercial St at Montgomery St             37.794231  ...   \n",
       "2  Powell St BART Station (Market St at 4th St)             37.786375  ...   \n",
       "3                        Central Ave at Fell St             37.773311  ...   \n",
       "4                         10th Ave at E 15th St             37.792714  ...   \n",
       "5                            Broadway at Kearny             37.798014  ...   \n",
       "\n",
       "      time_start   date_end       time_end  start_month start_day end_month  \\\n",
       "0  17:32:10.1450 2019-03-01  08:01:55.9750     February  Thursday     March   \n",
       "2  12:13:13.2180 2019-03-01  05:24:08.1460     February  Thursday     March   \n",
       "3  17:54:26.0100 2019-03-01  04:02:36.8420     February  Thursday     March   \n",
       "4  23:54:18.5490 2019-03-01  00:20:44.0740     February  Thursday     March   \n",
       "5  23:49:58.6320 2019-03-01  00:19:51.7600     February  Thursday     March   \n",
       "\n",
       "  end_day member_age user_age_range duration_hour  \n",
       "0  Friday         35          29-38          15.0  \n",
       "2  Friday         47          39-48          18.0  \n",
       "3  Friday         30          29-38          11.0  \n",
       "4  Friday         45          39-48           1.0  \n",
       "5  Friday         60          49-58           1.0  \n",
       "\n",
       "[5 rows x 27 columns]"
      ]
     },
     "execution_count": 61,
     "metadata": {},
     "output_type": "execute_result"
    }
   ],
   "source": [
    "\n",
    "df_filter['duration_hour'] = df_filter['duration_sec']/3600\n",
    "df_filter['duration_hour']=df_filter['duration_hour'].apply(np.ceil)\n",
    "df_filter.head()"
   ]
  },
  {
   "cell_type": "code",
   "execution_count": 63,
   "metadata": {},
   "outputs": [
    {
     "data": {
      "text/html": [
       "<div>\n",
       "<style scoped>\n",
       "    .dataframe tbody tr th:only-of-type {\n",
       "        vertical-align: middle;\n",
       "    }\n",
       "\n",
       "    .dataframe tbody tr th {\n",
       "        vertical-align: top;\n",
       "    }\n",
       "\n",
       "    .dataframe thead th {\n",
       "        text-align: right;\n",
       "    }\n",
       "</style>\n",
       "<table border=\"1\" class=\"dataframe\">\n",
       "  <thead>\n",
       "    <tr style=\"text-align: right;\">\n",
       "      <th></th>\n",
       "      <th>duration_sec</th>\n",
       "      <th>start_station_id</th>\n",
       "      <th>start_station_latitude</th>\n",
       "      <th>start_station_longitude</th>\n",
       "      <th>end_station_id</th>\n",
       "      <th>end_station_latitude</th>\n",
       "      <th>end_station_longitude</th>\n",
       "      <th>bike_id</th>\n",
       "      <th>member_birth_year</th>\n",
       "      <th>member_age</th>\n",
       "      <th>duration_hour</th>\n",
       "    </tr>\n",
       "    <tr>\n",
       "      <th>user_age_range</th>\n",
       "      <th></th>\n",
       "      <th></th>\n",
       "      <th></th>\n",
       "      <th></th>\n",
       "      <th></th>\n",
       "      <th></th>\n",
       "      <th></th>\n",
       "      <th></th>\n",
       "      <th></th>\n",
       "      <th></th>\n",
       "      <th></th>\n",
       "    </tr>\n",
       "  </thead>\n",
       "  <tbody>\n",
       "    <tr>\n",
       "      <th>18-28</th>\n",
       "      <td>691.139969</td>\n",
       "      <td>157.702557</td>\n",
       "      <td>37.753207</td>\n",
       "      <td>-122.323227</td>\n",
       "      <td>154.969632</td>\n",
       "      <td>37.753404</td>\n",
       "      <td>-122.322829</td>\n",
       "      <td>4507.813384</td>\n",
       "      <td>1993.646815</td>\n",
       "      <td>25.353185</td>\n",
       "      <td>1.020092</td>\n",
       "    </tr>\n",
       "    <tr>\n",
       "      <th>29-38</th>\n",
       "      <td>705.964081</td>\n",
       "      <td>129.584569</td>\n",
       "      <td>37.783509</td>\n",
       "      <td>-122.371381</td>\n",
       "      <td>127.160769</td>\n",
       "      <td>37.783725</td>\n",
       "      <td>-122.370803</td>\n",
       "      <td>4522.501120</td>\n",
       "      <td>1984.891336</td>\n",
       "      <td>34.108664</td>\n",
       "      <td>1.023456</td>\n",
       "    </tr>\n",
       "    <tr>\n",
       "      <th>39-48</th>\n",
       "      <td>706.426454</td>\n",
       "      <td>124.277024</td>\n",
       "      <td>37.780388</td>\n",
       "      <td>-122.365543</td>\n",
       "      <td>121.352094</td>\n",
       "      <td>37.780494</td>\n",
       "      <td>-122.365205</td>\n",
       "      <td>4416.253810</td>\n",
       "      <td>1973.588702</td>\n",
       "      <td>45.411298</td>\n",
       "      <td>1.024341</td>\n",
       "    </tr>\n",
       "    <tr>\n",
       "      <th>49-58</th>\n",
       "      <td>763.861567</td>\n",
       "      <td>124.680224</td>\n",
       "      <td>37.773428</td>\n",
       "      <td>-122.359709</td>\n",
       "      <td>125.184981</td>\n",
       "      <td>37.773689</td>\n",
       "      <td>-122.359846</td>\n",
       "      <td>4269.481250</td>\n",
       "      <td>1962.773321</td>\n",
       "      <td>56.226679</td>\n",
       "      <td>1.019869</td>\n",
       "    </tr>\n",
       "    <tr>\n",
       "      <th>59-68</th>\n",
       "      <td>730.604575</td>\n",
       "      <td>127.189542</td>\n",
       "      <td>37.788578</td>\n",
       "      <td>-122.356095</td>\n",
       "      <td>130.187364</td>\n",
       "      <td>37.788719</td>\n",
       "      <td>-122.356375</td>\n",
       "      <td>4115.907952</td>\n",
       "      <td>1952.492375</td>\n",
       "      <td>66.507625</td>\n",
       "      <td>1.014706</td>\n",
       "    </tr>\n",
       "    <tr>\n",
       "      <th>69-78</th>\n",
       "      <td>709.857923</td>\n",
       "      <td>115.049180</td>\n",
       "      <td>37.791955</td>\n",
       "      <td>-122.378547</td>\n",
       "      <td>104.579235</td>\n",
       "      <td>37.791830</td>\n",
       "      <td>-122.378971</td>\n",
       "      <td>4180.579235</td>\n",
       "      <td>1943.524590</td>\n",
       "      <td>75.475410</td>\n",
       "      <td>1.005464</td>\n",
       "    </tr>\n",
       "    <tr>\n",
       "      <th>79-88</th>\n",
       "      <td>272.053571</td>\n",
       "      <td>73.875000</td>\n",
       "      <td>37.776926</td>\n",
       "      <td>-122.412773</td>\n",
       "      <td>77.044643</td>\n",
       "      <td>37.775742</td>\n",
       "      <td>-122.413000</td>\n",
       "      <td>4843.464286</td>\n",
       "      <td>1931.285714</td>\n",
       "      <td>87.714286</td>\n",
       "      <td>1.000000</td>\n",
       "    </tr>\n",
       "    <tr>\n",
       "      <th>89-98</th>\n",
       "      <td>491.333333</td>\n",
       "      <td>30.666667</td>\n",
       "      <td>37.786592</td>\n",
       "      <td>-122.397303</td>\n",
       "      <td>46.000000</td>\n",
       "      <td>37.782264</td>\n",
       "      <td>-122.395542</td>\n",
       "      <td>5363.333333</td>\n",
       "      <td>1920.000000</td>\n",
       "      <td>99.000000</td>\n",
       "      <td>1.000000</td>\n",
       "    </tr>\n",
       "    <tr>\n",
       "      <th>99-108</th>\n",
       "      <td>501.111111</td>\n",
       "      <td>103.777778</td>\n",
       "      <td>37.782500</td>\n",
       "      <td>-122.397440</td>\n",
       "      <td>46.833333</td>\n",
       "      <td>37.780639</td>\n",
       "      <td>-122.395487</td>\n",
       "      <td>4042.222222</td>\n",
       "      <td>1902.111111</td>\n",
       "      <td>116.888889</td>\n",
       "      <td>1.000000</td>\n",
       "    </tr>\n",
       "    <tr>\n",
       "      <th>108-119</th>\n",
       "      <td>693.660377</td>\n",
       "      <td>231.169811</td>\n",
       "      <td>37.809986</td>\n",
       "      <td>-122.338262</td>\n",
       "      <td>168.698113</td>\n",
       "      <td>37.810941</td>\n",
       "      <td>-122.332893</td>\n",
       "      <td>4722.339623</td>\n",
       "      <td>1900.000000</td>\n",
       "      <td>119.000000</td>\n",
       "      <td>1.000000</td>\n",
       "    </tr>\n",
       "    <tr>\n",
       "      <th>others</th>\n",
       "      <td>1474.000000</td>\n",
       "      <td>15.000000</td>\n",
       "      <td>37.795392</td>\n",
       "      <td>-122.394203</td>\n",
       "      <td>386.000000</td>\n",
       "      <td>37.752105</td>\n",
       "      <td>-122.419724</td>\n",
       "      <td>6436.000000</td>\n",
       "      <td>1878.000000</td>\n",
       "      <td>141.000000</td>\n",
       "      <td>1.000000</td>\n",
       "    </tr>\n",
       "  </tbody>\n",
       "</table>\n",
       "</div>"
      ],
      "text/plain": [
       "                duration_sec  start_station_id  start_station_latitude  \\\n",
       "user_age_range                                                           \n",
       "18-28             691.139969        157.702557               37.753207   \n",
       "29-38             705.964081        129.584569               37.783509   \n",
       "39-48             706.426454        124.277024               37.780388   \n",
       "49-58             763.861567        124.680224               37.773428   \n",
       "59-68             730.604575        127.189542               37.788578   \n",
       "69-78             709.857923        115.049180               37.791955   \n",
       "79-88             272.053571         73.875000               37.776926   \n",
       "89-98             491.333333         30.666667               37.786592   \n",
       "99-108            501.111111        103.777778               37.782500   \n",
       "108-119           693.660377        231.169811               37.809986   \n",
       "others           1474.000000         15.000000               37.795392   \n",
       "\n",
       "                start_station_longitude  end_station_id  end_station_latitude  \\\n",
       "user_age_range                                                                  \n",
       "18-28                       -122.323227      154.969632             37.753404   \n",
       "29-38                       -122.371381      127.160769             37.783725   \n",
       "39-48                       -122.365543      121.352094             37.780494   \n",
       "49-58                       -122.359709      125.184981             37.773689   \n",
       "59-68                       -122.356095      130.187364             37.788719   \n",
       "69-78                       -122.378547      104.579235             37.791830   \n",
       "79-88                       -122.412773       77.044643             37.775742   \n",
       "89-98                       -122.397303       46.000000             37.782264   \n",
       "99-108                      -122.397440       46.833333             37.780639   \n",
       "108-119                     -122.338262      168.698113             37.810941   \n",
       "others                      -122.394203      386.000000             37.752105   \n",
       "\n",
       "                end_station_longitude      bike_id  member_birth_year  \\\n",
       "user_age_range                                                          \n",
       "18-28                     -122.322829  4507.813384        1993.646815   \n",
       "29-38                     -122.370803  4522.501120        1984.891336   \n",
       "39-48                     -122.365205  4416.253810        1973.588702   \n",
       "49-58                     -122.359846  4269.481250        1962.773321   \n",
       "59-68                     -122.356375  4115.907952        1952.492375   \n",
       "69-78                     -122.378971  4180.579235        1943.524590   \n",
       "79-88                     -122.413000  4843.464286        1931.285714   \n",
       "89-98                     -122.395542  5363.333333        1920.000000   \n",
       "99-108                    -122.395487  4042.222222        1902.111111   \n",
       "108-119                   -122.332893  4722.339623        1900.000000   \n",
       "others                    -122.419724  6436.000000        1878.000000   \n",
       "\n",
       "                member_age  duration_hour  \n",
       "user_age_range                             \n",
       "18-28            25.353185       1.020092  \n",
       "29-38            34.108664       1.023456  \n",
       "39-48            45.411298       1.024341  \n",
       "49-58            56.226679       1.019869  \n",
       "59-68            66.507625       1.014706  \n",
       "69-78            75.475410       1.005464  \n",
       "79-88            87.714286       1.000000  \n",
       "89-98            99.000000       1.000000  \n",
       "99-108          116.888889       1.000000  \n",
       "108-119         119.000000       1.000000  \n",
       "others          141.000000       1.000000  "
      ]
     },
     "execution_count": 63,
     "metadata": {},
     "output_type": "execute_result"
    }
   ],
   "source": [
    "dg = df_filter.groupby([\"user_age_range\"]).mean(['duration_sec'])\n",
    "dg"
   ]
  },
  {
   "cell_type": "code",
   "execution_count": 75,
   "metadata": {},
   "outputs": [
    {
     "data": {
      "image/png": "[encoded data removed]",
      "text/plain": [
       "<Figure size 800x300 with 1 Axes>"
      ]
     },
     "metadata": {},
     "output_type": "display_data"
    }
   ],
   "source": [
    "def df_bar(counts, xlabel, ylabel, title):\n",
    "    counts.plot(kind ='box', title=title, figsize=(8,3))\n",
    "    plt.ylabel(ylabel, fontsize=11)\n",
    "    plt.xlabel(xlabel, fontsize=11)   \n",
    "    plt.show()\n",
    "\n",
    "counts=df_filter.groupby([\"user_age_range\"]).mean()['duration_sec']\n",
    "df_bar(counts,'User age Group','Duration','Average second spent by each age group')"
   ]
  },
  {
   "cell_type": "markdown",
   "metadata": {},
   "source": [
    "The above chart shows that there are some outliers in the age group \"others\". This can be due to the frequency of occurrence or a error"
   ]
  },
  {
   "cell_type": "markdown",
   "metadata": {},
   "source": [
    "#### 11. What is the average seconds spent biking across the different genders"
   ]
  },
  {
   "cell_type": "code",
   "execution_count": 76,
   "metadata": {
    "scrolled": true
   },
   "outputs": [
    {
     "data": {
      "text/html": [
       "<div>\n",
       "<style scoped>\n",
       "    .dataframe tbody tr th:only-of-type {\n",
       "        vertical-align: middle;\n",
       "    }\n",
       "\n",
       "    .dataframe tbody tr th {\n",
       "        vertical-align: top;\n",
       "    }\n",
       "\n",
       "    .dataframe thead th {\n",
       "        text-align: right;\n",
       "    }\n",
       "</style>\n",
       "<table border=\"1\" class=\"dataframe\">\n",
       "  <thead>\n",
       "    <tr style=\"text-align: right;\">\n",
       "      <th></th>\n",
       "      <th>duration_sec</th>\n",
       "      <th>start_station_id</th>\n",
       "      <th>start_station_latitude</th>\n",
       "      <th>start_station_longitude</th>\n",
       "      <th>end_station_id</th>\n",
       "      <th>end_station_latitude</th>\n",
       "      <th>end_station_longitude</th>\n",
       "      <th>bike_id</th>\n",
       "      <th>member_birth_year</th>\n",
       "      <th>member_age</th>\n",
       "      <th>duration_hour</th>\n",
       "    </tr>\n",
       "    <tr>\n",
       "      <th>member_gender</th>\n",
       "      <th></th>\n",
       "      <th></th>\n",
       "      <th></th>\n",
       "      <th></th>\n",
       "      <th></th>\n",
       "      <th></th>\n",
       "      <th></th>\n",
       "      <th></th>\n",
       "      <th></th>\n",
       "      <th></th>\n",
       "      <th></th>\n",
       "    </tr>\n",
       "  </thead>\n",
       "  <tbody>\n",
       "    <tr>\n",
       "      <th>Female</th>\n",
       "      <td>778.872761</td>\n",
       "      <td>138.107046</td>\n",
       "      <td>37.780751</td>\n",
       "      <td>-122.357255</td>\n",
       "      <td>136.301630</td>\n",
       "      <td>37.780915</td>\n",
       "      <td>-122.356612</td>\n",
       "      <td>4397.113565</td>\n",
       "      <td>1985.776302</td>\n",
       "      <td>33.223698</td>\n",
       "      <td>1.026737</td>\n",
       "    </tr>\n",
       "    <tr>\n",
       "      <th>Male</th>\n",
       "      <td>672.394851</td>\n",
       "      <td>138.894529</td>\n",
       "      <td>37.767464</td>\n",
       "      <td>-122.349906</td>\n",
       "      <td>136.305908</td>\n",
       "      <td>37.767677</td>\n",
       "      <td>-122.349541</td>\n",
       "      <td>4507.615885</td>\n",
       "      <td>1984.546383</td>\n",
       "      <td>34.453617</td>\n",
       "      <td>1.018805</td>\n",
       "    </tr>\n",
       "    <tr>\n",
       "      <th>Other</th>\n",
       "      <td>997.328489</td>\n",
       "      <td>152.867014</td>\n",
       "      <td>37.798962</td>\n",
       "      <td>-122.356613</td>\n",
       "      <td>150.676995</td>\n",
       "      <td>37.798832</td>\n",
       "      <td>-122.356502</td>\n",
       "      <td>4543.341376</td>\n",
       "      <td>1983.102002</td>\n",
       "      <td>35.897998</td>\n",
       "      <td>1.081711</td>\n",
       "    </tr>\n",
       "  </tbody>\n",
       "</table>\n",
       "</div>"
      ],
      "text/plain": [
       "               duration_sec  start_station_id  start_station_latitude  \\\n",
       "member_gender                                                           \n",
       "Female           778.872761        138.107046               37.780751   \n",
       "Male             672.394851        138.894529               37.767464   \n",
       "Other            997.328489        152.867014               37.798962   \n",
       "\n",
       "               start_station_longitude  end_station_id  end_station_latitude  \\\n",
       "member_gender                                                                  \n",
       "Female                     -122.357255      136.301630             37.780915   \n",
       "Male                       -122.349906      136.305908             37.767677   \n",
       "Other                      -122.356613      150.676995             37.798832   \n",
       "\n",
       "               end_station_longitude      bike_id  member_birth_year  \\\n",
       "member_gender                                                          \n",
       "Female                   -122.356612  4397.113565        1985.776302   \n",
       "Male                     -122.349541  4507.615885        1984.546383   \n",
       "Other                    -122.356502  4543.341376        1983.102002   \n",
       "\n",
       "               member_age  duration_hour  \n",
       "member_gender                             \n",
       "Female          33.223698       1.026737  \n",
       "Male            34.453617       1.018805  \n",
       "Other           35.897998       1.081711  "
      ]
     },
     "execution_count": 76,
     "metadata": {},
     "output_type": "execute_result"
    }
   ],
   "source": [
    "df_g = df_filter.groupby([\"member_gender\"]).mean(['duration_sec'])\n",
    "df_g"
   ]
  },
  {
   "cell_type": "code",
   "execution_count": 77,
   "metadata": {},
   "outputs": [
    {
     "data": {
      "image/png": "[encoded data removed]",
      "text/plain": [
       "<Figure size 800x300 with 1 Axes>"
      ]
     },
     "metadata": {},
     "output_type": "display_data"
    }
   ],
   "source": [
    "def df_bar(counts, xlabel, ylabel, title):\n",
    "    counts.plot(kind ='bar', title=title, figsize=(8,3))\n",
    "    plt.ylabel(ylabel, fontsize=11)\n",
    "    plt.xlabel(xlabel, fontsize=11)   \n",
    "    plt.show()\n",
    "\n",
    "counts=df_filter.groupby([\"member_gender\"]).mean()['duration_sec']\n",
    "df_bar(counts,'User Gender','Duration','Average second spent by each gender')"
   ]
  },
  {
   "cell_type": "markdown",
   "metadata": {},
   "source": [
    "The above graph shows the distribution of the time spent by each gender. The other gender spent more average time than the female and the females than the male users"
   ]
  },
  {
   "cell_type": "markdown",
   "metadata": {},
   "source": [
    "#### 12. What is the correlation between the age group and the time spent"
   ]
  },
  {
   "cell_type": "code",
   "execution_count": 81,
   "metadata": {},
   "outputs": [
    {
     "data": {
      "text/plain": [
       "<matplotlib.legend.Legend at 0x20e26e535e0>"
      ]
     },
     "execution_count": 81,
     "metadata": {},
     "output_type": "execute_result"
    },
    {
     "data": {
      "image/png": "[encoded data removed]",
      "text/plain": [
       "<Figure size 800x300 with 1 Axes>"
      ]
     },
     "metadata": {},
     "output_type": "display_data"
    }
   ],
   "source": [
    "df_filter.plot(x='user_age_range', y='duration_sec', kind='scatter',figsize=(8,3),label='Point of correlation');\n",
    "plt.title('Correlation between Age range and Time spent',fontsize=12)\n",
    "plt.xlabel('Age range',fontsize=11)\n",
    "plt.ylabel('Duration',fontsize=11)\n",
    "plt.legend(loc='best')"
   ]
  },
  {
   "cell_type": "markdown",
   "metadata": {},
   "source": [
    "The above graph has a negative correlation. The older the age range the lower the time spent biking"
   ]
  },
  {
   "cell_type": "markdown",
   "metadata": {},
   "source": [
    "### Talk about some of the relationships you observed in this part of the investigation. How did the feature(s) of interest vary with other features in the dataset?\n",
    "\n",
    "> There were interesting relationships between the features. The distribution across the different genders and age groups bring out some insights about the members who rent bikes. There are also outliers in this dataset\n",
    "\n",
    "### Did you observe any interesting relationships between the other features (not the main feature(s) of interest)?\n",
    "\n",
    "> Those will be explored futher down the line"
   ]
  },
  {
   "cell_type": "markdown",
   "metadata": {},
   "source": [
    "## Multivariate Exploration\n",
    "\n",
    "> Create plots of three or more variables to investigate your data even\n",
    "further. Make sure that your investigations are justified, and follow from\n",
    "your work in the previous sections."
   ]
  },
  {
   "cell_type": "markdown",
   "metadata": {},
   "source": [
    "#### 13. What is the relationship between the user_gender, the age group and the time spent?"
   ]
  },
  {
   "cell_type": "code",
   "execution_count": 86,
   "metadata": {},
   "outputs": [
    {
     "data": {
      "text/plain": [
       "<AxesSubplot:xlabel='duration_sec', ylabel='user_age_range'>"
      ]
     },
     "execution_count": 86,
     "metadata": {},
     "output_type": "execute_result"
    },
    {
     "data": {
      "image/png": "[encoded data removed]",
      "text/plain": [
       "<Figure size 640x480 with 1 Axes>"
      ]
     },
     "metadata": {},
     "output_type": "display_data"
    }
   ],
   "source": [
    "sb.barplot(data=df_filter, x=\"duration_sec\", y=\"user_age_range\", hue=\"member_gender\")"
   ]
  },
  {
   "cell_type": "markdown",
   "metadata": {},
   "source": [
    "### Talk about some of the relationships you observed in this part of the investigation. Were there features that strengthened each other in terms of looking at your feature(s) of interest?\n",
    "\n",
    "> The difference in the time spent by each of the differnt genders are large \n",
    "### Were there any interesting or surprising interactions between features?\n",
    "\n",
    "> Your answer here!"
   ]
  },
  {
   "cell_type": "markdown",
   "metadata": {},
   "source": [
    "## Conclusions\n",
    ">You can write a summary of the main findings and reflect on the steps taken during the data exploration.\n"
   ]
  },
  {
   "cell_type": "markdown",
   "metadata": {},
   "source": [
    "\n",
    "> Remove all Tips mentioned above, before you convert this notebook to PDF/HTML\n",
    "\n",
    "\n",
    "> At the end of your report, make sure that you export the notebook as an\n",
    "html file from the `File > Download as... > HTML or PDF` menu. Make sure you keep\n",
    "track of where the exported file goes, so you can put it in the same folder\n",
    "as this notebook for project submission. Also, make sure you remove all of\n",
    "the quote-formatted guide notes like this one before you finish your report!\n",
    "\n"
   ]
  },
  {
   "cell_type": "code",
   "execution_count": null,
   "metadata": {},
   "outputs": [],
   "source": []
  }
 ],
 "metadata": {
  "kernelspec": {
   "display_name": "Python 3 (ipykernel)",
   "language": "python",
   "name": "python3"
  },
  "language_info": {
   "codemirror_mode": {
    "name": "ipython",
    "version": 3
   },
   "file_extension": ".py",
   "mimetype": "text/x-python",
   "name": "python",
   "nbconvert_exporter": "python",
   "pygments_lexer": "ipython3",
   "version": "3.8.13"
  }
 },
 "nbformat": 4,
 "nbformat_minor": 2
}
